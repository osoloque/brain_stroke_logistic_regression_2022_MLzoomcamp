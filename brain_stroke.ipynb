{
 "cells": [
  {
   "cell_type": "code",
   "execution_count": 1,
   "id": "2504ef6f-ccf8-4c6b-b224-aaeac677269c",
   "metadata": {},
   "outputs": [],
   "source": [
    "import pandas as pd\n",
    "import numpy as np\n",
    "from sklearn.model_selection import train_test_split\n",
    "from sklearn.metrics import mean_squared_error\n",
    "from sklearn.linear_model import LogisticRegression\n",
    "from sklearn.metrics import accuracy_score\n",
    "from sklearn.metrics import mutual_info_score\n",
    "from sklearn.feature_extraction import DictVectorizer\n",
    "from sklearn.tree import DecisionTreeClassifier\n",
    "from sklearn.tree import export_text\n",
    "from sklearn.ensemble import RandomForestClassifier\n",
    "from sklearn.metrics import roc_curve\n",
    "from sklearn.metrics import auc\n",
    "from sklearn.metrics import roc_auc_score\n",
    "from sklearn.model_selection import KFold\n",
    "import seaborn as sns\n",
    "from math import sqrt\n",
    "from matplotlib import pyplot as plt\n",
    "%matplotlib inline"
   ]
  },
  {
   "cell_type": "markdown",
   "id": "6f1e8944-4c47-4179-bf13-efca53824d3d",
   "metadata": {},
   "source": [
    "## EDA"
   ]
  },
  {
   "cell_type": "code",
   "execution_count": 2,
   "id": "8bd9d876-750a-4f24-8f1e-72a9dc35fad6",
   "metadata": {},
   "outputs": [],
   "source": [
    "df = pd.read_csv('brain_stroke.csv')"
   ]
  },
  {
   "cell_type": "markdown",
   "id": "d589a0c5-240a-4222-b568-90c3e9bc1a91",
   "metadata": {},
   "source": [
    " ## Data preparation"
   ]
  },
  {
   "cell_type": "code",
   "execution_count": 3,
   "id": "2a9b2dfd-bed2-4641-89db-2a472b4ca07f",
   "metadata": {},
   "outputs": [
    {
     "name": "stdout",
     "output_type": "stream",
     "text": [
      "(4981, 11)\n"
     ]
    }
   ],
   "source": [
    "#@ INSPECTING DATAFRAME:\n",
    "print(df.shape)"
   ]
  },
  {
   "cell_type": "code",
   "execution_count": 4,
   "id": "5fdfa973-bc1c-408f-af19-78354f8417fb",
   "metadata": {},
   "outputs": [
    {
     "data": {
      "text/html": [
       "<div>\n",
       "<style scoped>\n",
       "    .dataframe tbody tr th:only-of-type {\n",
       "        vertical-align: middle;\n",
       "    }\n",
       "\n",
       "    .dataframe tbody tr th {\n",
       "        vertical-align: top;\n",
       "    }\n",
       "\n",
       "    .dataframe thead th {\n",
       "        text-align: right;\n",
       "    }\n",
       "</style>\n",
       "<table border=\"1\" class=\"dataframe\">\n",
       "  <thead>\n",
       "    <tr style=\"text-align: right;\">\n",
       "      <th></th>\n",
       "      <th>gender</th>\n",
       "      <th>age</th>\n",
       "      <th>hypertension</th>\n",
       "      <th>heart_disease</th>\n",
       "      <th>ever_married</th>\n",
       "      <th>work_type</th>\n",
       "      <th>Residence_type</th>\n",
       "      <th>avg_glucose_level</th>\n",
       "      <th>bmi</th>\n",
       "      <th>smoking_status</th>\n",
       "      <th>stroke</th>\n",
       "    </tr>\n",
       "  </thead>\n",
       "  <tbody>\n",
       "    <tr>\n",
       "      <th>0</th>\n",
       "      <td>Male</td>\n",
       "      <td>67.0</td>\n",
       "      <td>0</td>\n",
       "      <td>1</td>\n",
       "      <td>Yes</td>\n",
       "      <td>Private</td>\n",
       "      <td>Urban</td>\n",
       "      <td>228.69</td>\n",
       "      <td>36.6</td>\n",
       "      <td>formerly smoked</td>\n",
       "      <td>1</td>\n",
       "    </tr>\n",
       "    <tr>\n",
       "      <th>1</th>\n",
       "      <td>Male</td>\n",
       "      <td>80.0</td>\n",
       "      <td>0</td>\n",
       "      <td>1</td>\n",
       "      <td>Yes</td>\n",
       "      <td>Private</td>\n",
       "      <td>Rural</td>\n",
       "      <td>105.92</td>\n",
       "      <td>32.5</td>\n",
       "      <td>never smoked</td>\n",
       "      <td>1</td>\n",
       "    </tr>\n",
       "    <tr>\n",
       "      <th>2</th>\n",
       "      <td>Female</td>\n",
       "      <td>49.0</td>\n",
       "      <td>0</td>\n",
       "      <td>0</td>\n",
       "      <td>Yes</td>\n",
       "      <td>Private</td>\n",
       "      <td>Urban</td>\n",
       "      <td>171.23</td>\n",
       "      <td>34.4</td>\n",
       "      <td>smokes</td>\n",
       "      <td>1</td>\n",
       "    </tr>\n",
       "    <tr>\n",
       "      <th>3</th>\n",
       "      <td>Female</td>\n",
       "      <td>79.0</td>\n",
       "      <td>1</td>\n",
       "      <td>0</td>\n",
       "      <td>Yes</td>\n",
       "      <td>Self-employed</td>\n",
       "      <td>Rural</td>\n",
       "      <td>174.12</td>\n",
       "      <td>24.0</td>\n",
       "      <td>never smoked</td>\n",
       "      <td>1</td>\n",
       "    </tr>\n",
       "    <tr>\n",
       "      <th>4</th>\n",
       "      <td>Male</td>\n",
       "      <td>81.0</td>\n",
       "      <td>0</td>\n",
       "      <td>0</td>\n",
       "      <td>Yes</td>\n",
       "      <td>Private</td>\n",
       "      <td>Urban</td>\n",
       "      <td>186.21</td>\n",
       "      <td>29.0</td>\n",
       "      <td>formerly smoked</td>\n",
       "      <td>1</td>\n",
       "    </tr>\n",
       "  </tbody>\n",
       "</table>\n",
       "</div>"
      ],
      "text/plain": [
       "   gender   age  hypertension  heart_disease ever_married      work_type  \\\n",
       "0    Male  67.0             0              1          Yes        Private   \n",
       "1    Male  80.0             0              1          Yes        Private   \n",
       "2  Female  49.0             0              0          Yes        Private   \n",
       "3  Female  79.0             1              0          Yes  Self-employed   \n",
       "4    Male  81.0             0              0          Yes        Private   \n",
       "\n",
       "  Residence_type  avg_glucose_level   bmi   smoking_status  stroke  \n",
       "0          Urban             228.69  36.6  formerly smoked       1  \n",
       "1          Rural             105.92  32.5     never smoked       1  \n",
       "2          Urban             171.23  34.4           smokes       1  \n",
       "3          Rural             174.12  24.0     never smoked       1  \n",
       "4          Urban             186.21  29.0  formerly smoked       1  "
      ]
     },
     "execution_count": 4,
     "metadata": {},
     "output_type": "execute_result"
    }
   ],
   "source": [
    "df.head()"
   ]
  },
  {
   "cell_type": "code",
   "execution_count": 5,
   "id": "2079eaf0-4c04-459a-b31b-5fc897b39a31",
   "metadata": {},
   "outputs": [
    {
     "data": {
      "text/html": [
       "<div>\n",
       "<style scoped>\n",
       "    .dataframe tbody tr th:only-of-type {\n",
       "        vertical-align: middle;\n",
       "    }\n",
       "\n",
       "    .dataframe tbody tr th {\n",
       "        vertical-align: top;\n",
       "    }\n",
       "\n",
       "    .dataframe thead th {\n",
       "        text-align: right;\n",
       "    }\n",
       "</style>\n",
       "<table border=\"1\" class=\"dataframe\">\n",
       "  <thead>\n",
       "    <tr style=\"text-align: right;\">\n",
       "      <th></th>\n",
       "      <th>gender</th>\n",
       "      <th>age</th>\n",
       "      <th>hypertension</th>\n",
       "      <th>heart_disease</th>\n",
       "      <th>ever_married</th>\n",
       "      <th>work_type</th>\n",
       "      <th>residence_type</th>\n",
       "      <th>avg_glucose_level</th>\n",
       "      <th>bmi</th>\n",
       "      <th>smoking_status</th>\n",
       "      <th>stroke</th>\n",
       "    </tr>\n",
       "  </thead>\n",
       "  <tbody>\n",
       "    <tr>\n",
       "      <th>0</th>\n",
       "      <td>Male</td>\n",
       "      <td>67.0</td>\n",
       "      <td>0</td>\n",
       "      <td>1</td>\n",
       "      <td>Yes</td>\n",
       "      <td>Private</td>\n",
       "      <td>Urban</td>\n",
       "      <td>228.69</td>\n",
       "      <td>36.6</td>\n",
       "      <td>formerly smoked</td>\n",
       "      <td>1</td>\n",
       "    </tr>\n",
       "    <tr>\n",
       "      <th>1</th>\n",
       "      <td>Male</td>\n",
       "      <td>80.0</td>\n",
       "      <td>0</td>\n",
       "      <td>1</td>\n",
       "      <td>Yes</td>\n",
       "      <td>Private</td>\n",
       "      <td>Rural</td>\n",
       "      <td>105.92</td>\n",
       "      <td>32.5</td>\n",
       "      <td>never smoked</td>\n",
       "      <td>1</td>\n",
       "    </tr>\n",
       "    <tr>\n",
       "      <th>2</th>\n",
       "      <td>Female</td>\n",
       "      <td>49.0</td>\n",
       "      <td>0</td>\n",
       "      <td>0</td>\n",
       "      <td>Yes</td>\n",
       "      <td>Private</td>\n",
       "      <td>Urban</td>\n",
       "      <td>171.23</td>\n",
       "      <td>34.4</td>\n",
       "      <td>smokes</td>\n",
       "      <td>1</td>\n",
       "    </tr>\n",
       "    <tr>\n",
       "      <th>3</th>\n",
       "      <td>Female</td>\n",
       "      <td>79.0</td>\n",
       "      <td>1</td>\n",
       "      <td>0</td>\n",
       "      <td>Yes</td>\n",
       "      <td>Self-employed</td>\n",
       "      <td>Rural</td>\n",
       "      <td>174.12</td>\n",
       "      <td>24.0</td>\n",
       "      <td>never smoked</td>\n",
       "      <td>1</td>\n",
       "    </tr>\n",
       "    <tr>\n",
       "      <th>4</th>\n",
       "      <td>Male</td>\n",
       "      <td>81.0</td>\n",
       "      <td>0</td>\n",
       "      <td>0</td>\n",
       "      <td>Yes</td>\n",
       "      <td>Private</td>\n",
       "      <td>Urban</td>\n",
       "      <td>186.21</td>\n",
       "      <td>29.0</td>\n",
       "      <td>formerly smoked</td>\n",
       "      <td>1</td>\n",
       "    </tr>\n",
       "  </tbody>\n",
       "</table>\n",
       "</div>"
      ],
      "text/plain": [
       "   gender   age  hypertension  heart_disease ever_married      work_type  \\\n",
       "0    Male  67.0             0              1          Yes        Private   \n",
       "1    Male  80.0             0              1          Yes        Private   \n",
       "2  Female  49.0             0              0          Yes        Private   \n",
       "3  Female  79.0             1              0          Yes  Self-employed   \n",
       "4    Male  81.0             0              0          Yes        Private   \n",
       "\n",
       "  residence_type  avg_glucose_level   bmi   smoking_status  stroke  \n",
       "0          Urban             228.69  36.6  formerly smoked       1  \n",
       "1          Rural             105.92  32.5     never smoked       1  \n",
       "2          Urban             171.23  34.4           smokes       1  \n",
       "3          Rural             174.12  24.0     never smoked       1  \n",
       "4          Urban             186.21  29.0  formerly smoked       1  "
      ]
     },
     "execution_count": 5,
     "metadata": {},
     "output_type": "execute_result"
    }
   ],
   "source": [
    "df.columns = df.columns.str.lower()\n",
    "df.head()"
   ]
  },
  {
   "cell_type": "code",
   "execution_count": 6,
   "id": "c61d520b-f16f-42c6-bec2-ee4c97780024",
   "metadata": {},
   "outputs": [
    {
     "data": {
      "text/plain": [
       "Index(['gender', 'age', 'hypertension', 'heart_disease', 'ever_married',\n",
       "       'work_type', 'residence_type', 'avg_glucose_level', 'bmi',\n",
       "       'smoking_status', 'stroke'],\n",
       "      dtype='object')"
      ]
     },
     "execution_count": 6,
     "metadata": {},
     "output_type": "execute_result"
    }
   ],
   "source": [
    "df.columns"
   ]
  },
  {
   "cell_type": "code",
   "execution_count": 7,
   "id": "054f71c9-069e-4bac-b744-168573bb01da",
   "metadata": {},
   "outputs": [
    {
     "data": {
      "text/plain": [
       "gender                object\n",
       "age                  float64\n",
       "hypertension           int64\n",
       "heart_disease          int64\n",
       "ever_married          object\n",
       "work_type             object\n",
       "residence_type        object\n",
       "avg_glucose_level    float64\n",
       "bmi                  float64\n",
       "smoking_status        object\n",
       "stroke                 int64\n",
       "dtype: object"
      ]
     },
     "execution_count": 7,
     "metadata": {},
     "output_type": "execute_result"
    }
   ],
   "source": [
    "df.dtypes"
   ]
  },
  {
   "cell_type": "code",
   "execution_count": 8,
   "id": "692d3f52-7080-48e9-9b5f-83e41b03ce4b",
   "metadata": {},
   "outputs": [
    {
     "data": {
      "text/html": [
       "<div>\n",
       "<style scoped>\n",
       "    .dataframe tbody tr th:only-of-type {\n",
       "        vertical-align: middle;\n",
       "    }\n",
       "\n",
       "    .dataframe tbody tr th {\n",
       "        vertical-align: top;\n",
       "    }\n",
       "\n",
       "    .dataframe thead th {\n",
       "        text-align: right;\n",
       "    }\n",
       "</style>\n",
       "<table border=\"1\" class=\"dataframe\">\n",
       "  <thead>\n",
       "    <tr style=\"text-align: right;\">\n",
       "      <th></th>\n",
       "      <th>age</th>\n",
       "      <th>hypertension</th>\n",
       "      <th>heart_disease</th>\n",
       "      <th>avg_glucose_level</th>\n",
       "      <th>bmi</th>\n",
       "      <th>stroke</th>\n",
       "    </tr>\n",
       "  </thead>\n",
       "  <tbody>\n",
       "    <tr>\n",
       "      <th>count</th>\n",
       "      <td>4981.000000</td>\n",
       "      <td>4981.000000</td>\n",
       "      <td>4981.000000</td>\n",
       "      <td>4981.000000</td>\n",
       "      <td>4981.000000</td>\n",
       "      <td>4981.000000</td>\n",
       "    </tr>\n",
       "    <tr>\n",
       "      <th>mean</th>\n",
       "      <td>43.419859</td>\n",
       "      <td>0.096165</td>\n",
       "      <td>0.055210</td>\n",
       "      <td>105.943562</td>\n",
       "      <td>28.498173</td>\n",
       "      <td>0.049789</td>\n",
       "    </tr>\n",
       "    <tr>\n",
       "      <th>std</th>\n",
       "      <td>22.662755</td>\n",
       "      <td>0.294848</td>\n",
       "      <td>0.228412</td>\n",
       "      <td>45.075373</td>\n",
       "      <td>6.790464</td>\n",
       "      <td>0.217531</td>\n",
       "    </tr>\n",
       "    <tr>\n",
       "      <th>min</th>\n",
       "      <td>0.080000</td>\n",
       "      <td>0.000000</td>\n",
       "      <td>0.000000</td>\n",
       "      <td>55.120000</td>\n",
       "      <td>14.000000</td>\n",
       "      <td>0.000000</td>\n",
       "    </tr>\n",
       "    <tr>\n",
       "      <th>25%</th>\n",
       "      <td>25.000000</td>\n",
       "      <td>0.000000</td>\n",
       "      <td>0.000000</td>\n",
       "      <td>77.230000</td>\n",
       "      <td>23.700000</td>\n",
       "      <td>0.000000</td>\n",
       "    </tr>\n",
       "    <tr>\n",
       "      <th>50%</th>\n",
       "      <td>45.000000</td>\n",
       "      <td>0.000000</td>\n",
       "      <td>0.000000</td>\n",
       "      <td>91.850000</td>\n",
       "      <td>28.100000</td>\n",
       "      <td>0.000000</td>\n",
       "    </tr>\n",
       "    <tr>\n",
       "      <th>75%</th>\n",
       "      <td>61.000000</td>\n",
       "      <td>0.000000</td>\n",
       "      <td>0.000000</td>\n",
       "      <td>113.860000</td>\n",
       "      <td>32.600000</td>\n",
       "      <td>0.000000</td>\n",
       "    </tr>\n",
       "    <tr>\n",
       "      <th>max</th>\n",
       "      <td>82.000000</td>\n",
       "      <td>1.000000</td>\n",
       "      <td>1.000000</td>\n",
       "      <td>271.740000</td>\n",
       "      <td>48.900000</td>\n",
       "      <td>1.000000</td>\n",
       "    </tr>\n",
       "  </tbody>\n",
       "</table>\n",
       "</div>"
      ],
      "text/plain": [
       "               age  hypertension  heart_disease  avg_glucose_level  \\\n",
       "count  4981.000000   4981.000000    4981.000000        4981.000000   \n",
       "mean     43.419859      0.096165       0.055210         105.943562   \n",
       "std      22.662755      0.294848       0.228412          45.075373   \n",
       "min       0.080000      0.000000       0.000000          55.120000   \n",
       "25%      25.000000      0.000000       0.000000          77.230000   \n",
       "50%      45.000000      0.000000       0.000000          91.850000   \n",
       "75%      61.000000      0.000000       0.000000         113.860000   \n",
       "max      82.000000      1.000000       1.000000         271.740000   \n",
       "\n",
       "               bmi       stroke  \n",
       "count  4981.000000  4981.000000  \n",
       "mean     28.498173     0.049789  \n",
       "std       6.790464     0.217531  \n",
       "min      14.000000     0.000000  \n",
       "25%      23.700000     0.000000  \n",
       "50%      28.100000     0.000000  \n",
       "75%      32.600000     0.000000  \n",
       "max      48.900000     1.000000  "
      ]
     },
     "execution_count": 8,
     "metadata": {},
     "output_type": "execute_result"
    }
   ],
   "source": [
    "df.describe()"
   ]
  },
  {
   "cell_type": "code",
   "execution_count": 9,
   "id": "aa9af354-0b7a-4c1c-8c85-c9dc16951525",
   "metadata": {},
   "outputs": [
    {
     "data": {
      "text/plain": [
       "gender               False\n",
       "age                  False\n",
       "hypertension         False\n",
       "heart_disease        False\n",
       "ever_married         False\n",
       "work_type            False\n",
       "residence_type       False\n",
       "avg_glucose_level    False\n",
       "bmi                  False\n",
       "smoking_status       False\n",
       "stroke               False\n",
       "dtype: bool"
      ]
     },
     "execution_count": 9,
     "metadata": {},
     "output_type": "execute_result"
    }
   ],
   "source": [
    "#is there any missing values\n",
    "df.isna().any()"
   ]
  },
  {
   "cell_type": "code",
   "execution_count": 10,
   "id": "fa2e154e-0b95-4e0a-9416-970202aae80e",
   "metadata": {},
   "outputs": [
    {
     "data": {
      "text/plain": [
       "gender               0\n",
       "age                  0\n",
       "hypertension         0\n",
       "heart_disease        0\n",
       "ever_married         0\n",
       "work_type            0\n",
       "residence_type       0\n",
       "avg_glucose_level    0\n",
       "bmi                  0\n",
       "smoking_status       0\n",
       "stroke               0\n",
       "dtype: int64"
      ]
     },
     "execution_count": 10,
     "metadata": {},
     "output_type": "execute_result"
    }
   ],
   "source": [
    "df.isnull().sum()"
   ]
  },
  {
   "cell_type": "code",
   "execution_count": 11,
   "id": "abba1b5c-72b8-4245-9258-d89be82138e4",
   "metadata": {},
   "outputs": [],
   "source": [
    "categorical = ['gender', 'hypertension', 'heart_disease', 'ever_married', 'work_type', 'residence_type', 'smoking_status']\n",
    "numerical = ['age','avg_glucose_level', 'bmi']"
   ]
  },
  {
   "cell_type": "code",
   "execution_count": 12,
   "id": "fb3f5cee-1341-4195-a34c-6591b766c5cc",
   "metadata": {},
   "outputs": [
    {
     "name": "stderr",
     "output_type": "stream",
     "text": [
      "/tmp/ipykernel_9205/1770147926.py:3: UserWarning: To output multiple subplots, the figure containing the passed axes is being cleared.\n",
      "  df.hist(bins=100, ax=ax, layout=(3, 3), column=['gender', 'age', 'ever_married',\n"
     ]
    },
    {
     "data": {
      "image/png": "[encoded data removed]",
      "text/plain": [
       "<Figure size 1500x1000 with 9 Axes>"
      ]
     },
     "metadata": {},
     "output_type": "display_data"
    }
   ],
   "source": [
    "fig = plt.figure(figsize=(15,10))\n",
    "ax = plt.gca()\n",
    "df.hist(bins=100, ax=ax, layout=(3, 3), column=['gender', 'age', 'ever_married',\n",
    "       'work_type', 'residence_type', 'avg_glucose_level', 'bmi',\n",
    "       'smoking_status'])\n",
    "plt.tight_layout()\n",
    "plt.show()"
   ]
  },
  {
   "cell_type": "code",
   "execution_count": 13,
   "id": "ba2dd3c1-1410-42b6-9dcd-ea2090fe587e",
   "metadata": {},
   "outputs": [
    {
     "data": {
      "image/png": "[encoded data removed]",
      "text/plain": [
       "<Figure size 600x400 with 1 Axes>"
      ]
     },
     "metadata": {},
     "output_type": "display_data"
    }
   ],
   "source": [
    "pop = np.log1p(df.age) \n",
    "plt.figure(figsize=(6, 4))\n",
    "sns.histplot(pop, bins=50)\n",
    "plt.ylabel('Frequency')\n",
    "plt.xlabel('age')\n",
    "plt.title('Distribution of age')\n",
    "\n",
    "plt.show()"
   ]
  },
  {
   "cell_type": "code",
   "execution_count": 14,
   "id": "ef6b92d5-5186-4cb0-a031-736773540244",
   "metadata": {},
   "outputs": [
    {
     "data": {
      "image/png": "[encoded data removed]",
      "text/plain": [
       "<Figure size 600x400 with 1 Axes>"
      ]
     },
     "metadata": {},
     "output_type": "display_data"
    }
   ],
   "source": [
    "pop = np.log1p(df.avg_glucose_level) \n",
    "plt.figure(figsize=(6, 4))\n",
    "sns.histplot(pop, bins=50)\n",
    "plt.ylabel('Frequency')\n",
    "plt.xlabel('avg_glucose_level')\n",
    "plt.title('Distribution of avg_glucose_level')\n",
    "\n",
    "plt.show()"
   ]
  },
  {
   "cell_type": "code",
   "execution_count": 15,
   "id": "e5abc641-c247-44c8-8afc-c061bc1cc535",
   "metadata": {},
   "outputs": [],
   "source": [
    "## let's make log\n",
    "\n",
    "df.age = np.log1p(df.age)"
   ]
  },
  {
   "cell_type": "code",
   "execution_count": 16,
   "id": "800f0b62-9e4a-4169-abad-da186fd1a285",
   "metadata": {},
   "outputs": [
    {
     "name": "stdout",
     "output_type": "stream",
     "text": [
      "                        age  hypertension  heart_disease  avg_glucose_level  \\\n",
      "age                1.000000      0.222129       0.190520           0.186970   \n",
      "hypertension       0.222129      1.000000       0.111974           0.170028   \n",
      "heart_disease      0.190520      0.111974       1.000000           0.166847   \n",
      "avg_glucose_level  0.186970      0.170028       0.166847           1.000000   \n",
      "bmi                0.474601      0.158762       0.060926           0.186348   \n",
      "stroke             0.176922      0.131965       0.134610           0.133227   \n",
      "\n",
      "                        bmi    stroke  \n",
      "age                0.474601  0.176922  \n",
      "hypertension       0.158762  0.131965  \n",
      "heart_disease      0.060926  0.134610  \n",
      "avg_glucose_level  0.186348  0.133227  \n",
      "bmi                1.000000  0.056926  \n",
      "stroke             0.056926  1.000000  \n"
     ]
    }
   ],
   "source": [
    "#let's create the correlation matrix\n",
    "\n",
    "#df_train_full[numerical].corrwith(df_train_full.churn).to_frame('correlation')\n",
    "corrMatrix = df.corr()\n",
    "print(corrMatrix)"
   ]
  },
  {
   "cell_type": "code",
   "execution_count": 17,
   "id": "6b3b9ecd-81a6-4e49-8a82-8966e6bf4a4e",
   "metadata": {},
   "outputs": [
    {
     "data": {
      "image/png": "[encoded data removed]",
      "text/plain": [
       "<Figure size 1000x600 with 2 Axes>"
      ]
     },
     "metadata": {},
     "output_type": "display_data"
    }
   ],
   "source": [
    "plt.figure(figsize=(10,6)) \n",
    "sns.heatmap(corrMatrix, annot=True,linewidths=.5,)\n",
    "plt.show()"
   ]
  },
  {
   "cell_type": "code",
   "execution_count": 18,
   "id": "f70fc7d8-7b3f-4e48-88f5-45d4c28a8536",
   "metadata": {},
   "outputs": [
    {
     "data": {
      "text/plain": [
       "bmi                age                  0.474601\n",
       "age                hypertension         0.222129\n",
       "heart_disease      age                  0.190520\n",
       "avg_glucose_level  age                  0.186970\n",
       "                   bmi                  0.186348\n",
       "age                stroke               0.176922\n",
       "avg_glucose_level  hypertension         0.170028\n",
       "heart_disease      avg_glucose_level    0.166847\n",
       "hypertension       bmi                  0.158762\n",
       "heart_disease      stroke               0.134610\n",
       "avg_glucose_level  stroke               0.133227\n",
       "hypertension       stroke               0.131965\n",
       "heart_disease      hypertension         0.111974\n",
       "                   bmi                  0.060926\n",
       "bmi                stroke               0.056926\n",
       "age                age                       NaN\n",
       "dtype: float64"
      ]
     },
     "execution_count": 18,
     "metadata": {},
     "output_type": "execute_result"
    }
   ],
   "source": [
    "corrMatrix[corrMatrix< 1].unstack().transpose().sort_values( ascending=False).drop_duplicates()"
   ]
  },
  {
   "cell_type": "code",
   "execution_count": 19,
   "id": "b82e946b-5dd7-4809-9b8c-d46d92836e03",
   "metadata": {},
   "outputs": [
    {
     "data": {
      "text/plain": [
       "3.5645947673422347"
      ]
     },
     "execution_count": 19,
     "metadata": {},
     "output_type": "execute_result"
    }
   ],
   "source": [
    "df['age'].mean()"
   ]
  },
  {
   "cell_type": "code",
   "execution_count": 20,
   "id": "cf1bf637-f2d2-40e8-8fff-4a993ed0eb5e",
   "metadata": {},
   "outputs": [
    {
     "data": {
      "text/plain": [
       "28.498173057619002"
      ]
     },
     "execution_count": 20,
     "metadata": {},
     "output_type": "execute_result"
    }
   ],
   "source": [
    "df['bmi'].mean()"
   ]
  },
  {
   "cell_type": "code",
   "execution_count": 21,
   "id": "055641e5-ebf1-49b2-be29-42353949a747",
   "metadata": {},
   "outputs": [
    {
     "data": {
      "text/plain": [
       "4.3694478524670215"
      ]
     },
     "execution_count": 21,
     "metadata": {},
     "output_type": "execute_result"
    }
   ],
   "source": [
    "#most frequent\n",
    "df['age'].value_counts().idxmax()"
   ]
  },
  {
   "cell_type": "code",
   "execution_count": 22,
   "id": "c407961f-6af6-4ab9-88b7-35b330c195fb",
   "metadata": {},
   "outputs": [
    {
     "data": {
      "text/plain": [
       "28.7"
      ]
     },
     "execution_count": 22,
     "metadata": {},
     "output_type": "execute_result"
    }
   ],
   "source": [
    "df['bmi'].value_counts().idxmax()"
   ]
  },
  {
   "cell_type": "code",
   "execution_count": 23,
   "id": "b682f67a-873e-4097-9511-689eb7beb077",
   "metadata": {},
   "outputs": [
    {
     "data": {
      "text/plain": [
       "0"
      ]
     },
     "execution_count": 23,
     "metadata": {},
     "output_type": "execute_result"
    }
   ],
   "source": [
    "df['heart_disease'].value_counts().idxmax()"
   ]
  },
  {
   "cell_type": "markdown",
   "id": "ffafd70f-f01c-4d60-9d22-c4121918a5c4",
   "metadata": {},
   "source": [
    "## Splitting the data"
   ]
  },
  {
   "cell_type": "code",
   "execution_count": 24,
   "id": "9df7eb51-08ab-4d95-9806-11789fb7e724",
   "metadata": {},
   "outputs": [],
   "source": [
    "# split into full train 80% and 20% for test or train/val/test sets, with 60%/20%/20% distribution.\n",
    "df_train_full, df_test = train_test_split(df, test_size=0.2, random_state=42) \n",
    "# split full train into train and val 20% of 80 % - 1/4=25%\n",
    "df_train, df_val = train_test_split(df_train_full, test_size=0.25, random_state=42)"
   ]
  },
  {
   "cell_type": "code",
   "execution_count": 25,
   "id": "9c8ba247-d2ad-4d71-8339-374a3bd6c0ed",
   "metadata": {},
   "outputs": [
    {
     "data": {
      "text/plain": [
       "(2988, 996, 997)"
      ]
     },
     "execution_count": 25,
     "metadata": {},
     "output_type": "execute_result"
    }
   ],
   "source": [
    "len(df_train), len(df_val), len(df_test)"
   ]
  },
  {
   "cell_type": "code",
   "execution_count": 26,
   "id": "6e53912f-24d2-4f08-9359-3351eaf6e710",
   "metadata": {},
   "outputs": [],
   "source": [
    "df_train = df_train.reset_index(drop=True)\n",
    "df_val = df_val.reset_index(drop=True)\n",
    "df_test = df_test.reset_index(drop=True)\n",
    "\n",
    "y_train = df_train.stroke.values\n",
    "y_val = df_val.stroke.values\n",
    "y_test = df_test.stroke.values"
   ]
  },
  {
   "cell_type": "code",
   "execution_count": 27,
   "id": "2948e8db-d5a5-4b55-ad5a-abee4b15776b",
   "metadata": {},
   "outputs": [
    {
     "data": {
      "text/plain": [
       "0    0.951305\n",
       "1    0.048695\n",
       "Name: stroke, dtype: float64"
      ]
     },
     "execution_count": 27,
     "metadata": {},
     "output_type": "execute_result"
    }
   ],
   "source": [
    "# only 5% of people had stroke\n",
    "df_train_full.stroke.value_counts(normalize = True)"
   ]
  },
  {
   "cell_type": "markdown",
   "id": "eaaa4dbd-a9d6-472a-969b-be48cca01c7a",
   "metadata": {},
   "source": [
    "## Looking into different groups"
   ]
  },
  {
   "cell_type": "code",
   "execution_count": 28,
   "id": "4c85c8bc-fa80-4870-82b1-edf7b62b2e2f",
   "metadata": {},
   "outputs": [
    {
     "data": {
      "text/plain": [
       "gender            2\n",
       "hypertension      2\n",
       "heart_disease     2\n",
       "ever_married      2\n",
       "work_type         4\n",
       "residence_type    2\n",
       "smoking_status    4\n",
       "dtype: int64"
      ]
     },
     "execution_count": 28,
     "metadata": {},
     "output_type": "execute_result"
    }
   ],
   "source": [
    "df_train_full[categorical].nunique()"
   ]
  },
  {
   "cell_type": "code",
   "execution_count": 29,
   "id": "1d35c7de-2084-4b5c-a393-44d486b57075",
   "metadata": {},
   "outputs": [
    {
     "data": {
      "text/plain": [
       "0.045689655172413794"
      ]
     },
     "execution_count": 29,
     "metadata": {},
     "output_type": "execute_result"
    }
   ],
   "source": [
    "df_train_full[df_train_full.gender == 'Female'].stroke.mean()"
   ]
  },
  {
   "cell_type": "code",
   "execution_count": 30,
   "id": "599ade4b-da3e-4405-a694-ee8753dd4418",
   "metadata": {},
   "outputs": [
    {
     "data": {
      "text/plain": [
       "0.052884615384615384"
      ]
     },
     "execution_count": 30,
     "metadata": {},
     "output_type": "execute_result"
    }
   ],
   "source": [
    "df_train_full[df_train_full.gender == 'Male'].stroke.mean()"
   ]
  },
  {
   "cell_type": "code",
   "execution_count": 31,
   "id": "9b15557b-a247-426a-876c-c3e7f357bfe6",
   "metadata": {},
   "outputs": [
    {
     "data": {
      "text/plain": [
       "0    0.951305\n",
       "1    0.048695\n",
       "Name: stroke, dtype: float64"
      ]
     },
     "execution_count": 31,
     "metadata": {},
     "output_type": "execute_result"
    }
   ],
   "source": [
    "global_stroke_rate = df_train_full.stroke.value_counts(normalize = True)\n",
    "global_stroke_rate"
   ]
  },
  {
   "cell_type": "code",
   "execution_count": 32,
   "id": "634774d4-128f-4ee6-aeb3-00132557b9ba",
   "metadata": {},
   "outputs": [
    {
     "data": {
      "text/plain": [
       "0.06572411157814291"
      ]
     },
     "execution_count": 32,
     "metadata": {},
     "output_type": "execute_result"
    }
   ],
   "source": [
    "df_train_full[df_train_full.ever_married == 'Yes'].stroke.mean()"
   ]
  },
  {
   "cell_type": "code",
   "execution_count": 33,
   "id": "90c078eb-0620-4e32-93b5-90e38ea1fd65",
   "metadata": {},
   "outputs": [
    {
     "data": {
      "text/plain": [
       "0.016093635698610095"
      ]
     },
     "execution_count": 33,
     "metadata": {},
     "output_type": "execute_result"
    }
   ],
   "source": [
    "df_train_full[df_train_full.ever_married == 'No'].stroke.mean()"
   ]
  },
  {
   "cell_type": "markdown",
   "id": "472f7f79-4483-47e1-99de-ef12ab490bcb",
   "metadata": {},
   "source": [
    "## Risk ratio"
   ]
  },
  {
   "cell_type": "code",
   "execution_count": null,
   "id": "335ef27c-b967-40d1-a8c4-c1c5fecbabe7",
   "metadata": {},
   "outputs": [],
   "source": []
  },
  {
   "cell_type": "code",
   "execution_count": 34,
   "id": "13a46290-bfaa-43df-9b8b-d62c83e90678",
   "metadata": {},
   "outputs": [],
   "source": [
    "del df_train['stroke']\n",
    "del df_val['stroke']\n",
    "del df_test['stroke']"
   ]
  },
  {
   "cell_type": "markdown",
   "id": "647bae71-2d36-4351-8201-68adaed6fb1d",
   "metadata": {},
   "source": [
    "## Logistic regression\n"
   ]
  },
  {
   "cell_type": "code",
   "execution_count": 35,
   "id": "f3894a55-6756-46f1-92d8-a717c0d83bd9",
   "metadata": {},
   "outputs": [],
   "source": [
    "def train(df, y, C=1.0):\n",
    "    cat = df[categorical + numerical].to_dict(orient='records')\n",
    "    \n",
    "    dv = DictVectorizer(sparse=False)\n",
    "    dv.fit(cat)\n",
    "\n",
    "    X = dv.transform(cat)\n",
    "\n",
    "    model = LogisticRegression(solver='liblinear', C=C, max_iter = 1000)\n",
    "    model.fit(X, y)\n",
    "\n",
    "    return dv, model"
   ]
  },
  {
   "cell_type": "code",
   "execution_count": 36,
   "id": "d67f6f72-4961-41bb-a05a-a860d48d0eb0",
   "metadata": {},
   "outputs": [],
   "source": [
    "def predict(df, dv, model):\n",
    "    dicts = df[categorical + numerical].to_dict(orient='records')\n",
    "    \n",
    "    X = dv.transform(dicts)\n",
    "\n",
    "    y_pred = model.predict_proba(X)[:, 1]\n",
    "\n",
    "    return y_pred"
   ]
  },
  {
   "cell_type": "code",
   "execution_count": 37,
   "id": "ac8ac9c4-0580-4f01-ba61-5dfb513d72d0",
   "metadata": {},
   "outputs": [],
   "source": [
    "dv, model = train(df_train, y_train, C = 40)\n",
    "y_pred = predict(df_val, dv, model)\n",
    "auc = roc_auc_score(y_val, y_pred)"
   ]
  },
  {
   "cell_type": "code",
   "execution_count": 38,
   "id": "d2a32b3f-6e9d-422d-ab33-7a8521c052ba",
   "metadata": {},
   "outputs": [
    {
     "data": {
      "text/plain": [
       "0.803"
      ]
     },
     "execution_count": 38,
     "metadata": {},
     "output_type": "execute_result"
    }
   ],
   "source": [
    "round(auc, 3)"
   ]
  },
  {
   "cell_type": "code",
   "execution_count": 39,
   "id": "8aeaf172-a5e5-43de-b1ef-b6eaed6959a3",
   "metadata": {},
   "outputs": [],
   "source": [
    "auc = roc_auc_score(y_val, y_pred)"
   ]
  },
  {
   "cell_type": "code",
   "execution_count": 40,
   "id": "a9b610c1-87d3-48ca-a7ff-739cd5c4d26e",
   "metadata": {},
   "outputs": [
    {
     "name": "stdout",
     "output_type": "stream",
     "text": [
      "0.8027628308002139\n"
     ]
    }
   ],
   "source": [
    "print(auc)"
   ]
  },
  {
   "cell_type": "code",
   "execution_count": 41,
   "id": "4b513001-b839-4a12-bd33-a993cac571ba",
   "metadata": {},
   "outputs": [
    {
     "data": {
      "text/plain": [
       "0.9668674698795181"
      ]
     },
     "execution_count": 41,
     "metadata": {},
     "output_type": "execute_result"
    }
   ],
   "source": [
    "accuracy_score(y_val, y_pred >= 0.5)"
   ]
  },
  {
   "cell_type": "code",
   "execution_count": 42,
   "id": "f90f0f91-8526-470f-8a6c-65d087ffa961",
   "metadata": {},
   "outputs": [
    {
     "name": "stdout",
     "output_type": "stream",
     "text": [
      "0.36\n",
      "0.37\n",
      "0.38\n",
      "0.39\n",
      "0.4\n",
      "0.41000000000000003\n",
      "0.42\n",
      "0.43\n",
      "0.44\n",
      "0.45\n",
      "0.46\n",
      "0.47000000000000003\n",
      "0.48\n",
      "0.49\n",
      "0.5\n",
      "0.51\n",
      "0.52\n",
      "0.53\n",
      "0.54\n",
      "0.55\n",
      "0.56\n",
      "0.5700000000000001\n",
      "0.58\n",
      "0.59\n",
      "0.6\n",
      "0.61\n",
      "0.62\n",
      "0.63\n",
      "0.64\n",
      "0.65\n",
      "0.66\n",
      "0.67\n",
      "0.68\n",
      "0.6900000000000001\n",
      "0.7000000000000001\n",
      "0.71\n",
      "0.72\n",
      "0.73\n",
      "0.74\n",
      "0.75\n",
      "0.76\n",
      "0.77\n",
      "0.78\n",
      "0.79\n",
      "0.8\n",
      "0.81\n",
      "0.8200000000000001\n",
      "0.8300000000000001\n",
      "0.84\n",
      "0.85\n",
      "0.86\n",
      "0.87\n",
      "0.88\n",
      "0.89\n",
      "0.9\n",
      "0.91\n",
      "0.92\n",
      "0.93\n",
      "0.9400000000000001\n",
      "0.9500000000000001\n",
      "0.96\n",
      "0.97\n",
      "0.98\n",
      "0.99\n",
      "1.0\n"
     ]
    }
   ],
   "source": [
    "thresholds = np.linspace(0, 1, 101) #np.linspace(0, 0+(0.01*101),101,endpoint=False)\n",
    "scores = []\n",
    "actual_positive = (y_val == 1)\n",
    "actual_negative = (y_val == 0)\n",
    "\n",
    "for t in thresholds:\n",
    "    acc = accuracy_score(y_val, y_pred >= t)\n",
    "\n",
    "    predict_positive = (y_pred >= t)\n",
    "    predict_negative = (y_pred <= t)\n",
    "    \n",
    "    tp = (predict_positive & actual_positive).sum()\n",
    "    tn = (predict_negative & actual_negative).sum()\n",
    "    fp = (predict_positive & actual_negative).sum()\n",
    "    fn = (predict_negative & actual_positive).sum()\n",
    "    \n",
    "    \n",
    "#        print(type(tp), type(fp), tp, fp)\n",
    "    if (tp + fp) > 0 :\n",
    "        precision = tp / (tp + fp)\n",
    "    else:\n",
    "        precision = 0.\n",
    "        \n",
    "    if (tp + fn) > 0 :\n",
    "\n",
    "        recall = tp / (tp + fn)\n",
    "    else:\n",
    "        recall = 0.\n",
    "        \n",
    "    if (precision == recall):\n",
    "        print(t)\n",
    "    \n",
    "    scores.append((t, tp, fp, fn, tn, acc, precision, recall ))\n",
    "\n",
    "    df_scores = pd.DataFrame(scores)\n",
    "    df_scores.columns = ['threshold', 'tp', 'fp', 'fn', 'tn', 'acc', 'precision', 'recall' ] \n",
    "    \n",
    "#df_scores\n",
    " "
   ]
  },
  {
   "cell_type": "code",
   "execution_count": 43,
   "id": "ff90e4f7-740d-4c53-b9e8-8f2d09459032",
   "metadata": {},
   "outputs": [
    {
     "name": "stdout",
     "output_type": "stream",
     "text": [
      "0.5\n",
      "0.75\n",
      "1.0\n"
     ]
    }
   ],
   "source": [
    "thresholds = np.linspace(0, 1, 5) #np.linspace(0, 0+(0.01*101),101,endpoint=False)\n",
    "scores = []\n",
    "actual_positive = (y_val == 1)\n",
    "actual_negative = (y_val == 0)\n",
    "\n",
    "for t in thresholds:\n",
    "    acc = accuracy_score(y_val, y_pred >= t)\n",
    "\n",
    "    predict_positive = (y_pred >= t)\n",
    "    predict_negative = (y_pred <= t)\n",
    "    \n",
    "    tp = (predict_positive & actual_positive).sum()\n",
    "    tn = (predict_negative & actual_negative).sum()\n",
    "    fp = (predict_positive & actual_negative).sum()\n",
    "    fn = (predict_negative & actual_positive).sum()\n",
    "    \n",
    "    if (tp + fp) > 0 :\n",
    "        precision = tp / (tp + fp)\n",
    "    else:\n",
    "        precision = 0.\n",
    "        \n",
    "    if (tp + fn) > 0 :\n",
    "\n",
    "        recall = tp / (tp + fn)\n",
    "    else:\n",
    "        recall = 0.\n",
    "    if (precision == recall):\n",
    "        print(t)\n",
    "    \n",
    "    scores.append((t, tp, fp, fn, tn, acc, precision, recall ))\n",
    "\n",
    "    df_scores = pd.DataFrame(scores)\n",
    "    df_scores.columns = ['threshold', 'tp', 'fp', 'fn', 'tn', 'acc', 'precision', 'recall' ] \n",
    "    \n",
    "#df_scores"
   ]
  },
  {
   "cell_type": "code",
   "execution_count": 44,
   "id": "feb581fb-ba36-42b7-8edb-8029ed95a5ef",
   "metadata": {},
   "outputs": [
    {
     "name": "stdout",
     "output_type": "stream",
     "text": [
      "0.00 0.033\n",
      "0.05 0.721\n",
      "0.10 0.837\n",
      "0.15 0.896\n",
      "0.20 0.933\n",
      "0.25 0.948\n",
      "0.30 0.961\n",
      "0.35 0.965\n",
      "0.40 0.966\n",
      "0.45 0.967\n",
      "0.50 0.967\n",
      "0.55 0.967\n",
      "0.60 0.967\n",
      "0.65 0.967\n",
      "0.70 0.967\n",
      "0.75 0.967\n",
      "0.80 0.967\n",
      "0.85 0.967\n",
      "0.90 0.967\n",
      "0.95 0.967\n",
      "1.00 0.967\n"
     ]
    }
   ],
   "source": [
    "thresholds = np.linspace(0, 1, 21)\n",
    "\n",
    "accuracies = []\n",
    "\n",
    "for t in thresholds:\n",
    "    acc = accuracy_score(y_val, y_pred >= t)\n",
    "    accuracies.append(acc)\n",
    "    print('%0.2f %0.3f' % (t, acc))"
   ]
  },
  {
   "cell_type": "code",
   "execution_count": 45,
   "id": "2abaf447-a3a4-4bd5-b63f-32d336462ea2",
   "metadata": {},
   "outputs": [
    {
     "data": {
      "image/png": "[encoded data removed]",
      "text/plain": [
       "<Figure size 1000x600 with 1 Axes>"
      ]
     },
     "metadata": {},
     "output_type": "display_data"
    }
   ],
   "source": [
    "plt.figure(figsize=(10, 6))\n",
    "\n",
    "plt.plot(df_scores.threshold, df_scores.precision, color='blue')\n",
    "plt.plot(df_scores.threshold, df_scores.recall, color='red')\n",
    "\n",
    "plt.title('Threshold vs Precision')\n",
    "plt.xlabel('Threshold')\n",
    "plt.ylabel('Precision')\n",
    "\n",
    "plt.xticks(np.linspace(0, 1, 11))\n",
    "\n",
    "# plt.savefig('04_threshold_accuracy.svg')\n",
    "\n",
    "plt.show()"
   ]
  },
  {
   "cell_type": "code",
   "execution_count": 46,
   "id": "42ec2341-be09-47b1-be5a-20d75f2dd1bd",
   "metadata": {},
   "outputs": [],
   "source": [
    "scores = []\n",
    "\n",
    "thresholds = np.linspace(0, 1, 101)\n",
    "for t in thresholds: #B\n",
    "    tp = ((y_pred >= t) & (y_val == 1)).sum()\n",
    "    fp = ((y_pred >= t) & (y_val == 0)).sum()\n",
    "    fn = ((y_pred < t) & (y_val == 1)).sum()\n",
    "    tn = ((y_pred < t) & (y_val == 0)).sum()\n",
    "    scores.append((t, tp, fp, fn, tn))\n",
    "\n",
    "df_scores = pd.DataFrame(scores)\n",
    "df_scores.columns = ['threshold', 'tp', 'fp', 'fn', 'tn']"
   ]
  },
  {
   "cell_type": "code",
   "execution_count": 47,
   "id": "58a95eb5-d78d-4626-b1c3-d95fb617d23a",
   "metadata": {},
   "outputs": [],
   "source": [
    "df_scores['tpr'] = df_scores.tp / (df_scores.tp + df_scores.fn)\n",
    "df_scores['fpr'] = df_scores.fp / (df_scores.fp + df_scores.tn)"
   ]
  },
  {
   "cell_type": "code",
   "execution_count": 48,
   "id": "0fa8406b-bb33-4bc2-a496-f876da5ce2b3",
   "metadata": {},
   "outputs": [
    {
     "data": {
      "image/png": "[encoded data removed]",
      "text/plain": [
       "<Figure size 600x400 with 1 Axes>"
      ]
     },
     "metadata": {},
     "output_type": "display_data"
    }
   ],
   "source": [
    "plt.figure(figsize=(6, 4))\n",
    "\n",
    "plt.plot(df_scores.threshold, df_scores.tpr, color='blue', linestyle='solid', label='TPR')\n",
    "plt.plot(df_scores.threshold, df_scores.fpr, color='red', linestyle='dashed', label='FPR')\n",
    "plt.legend()\n",
    "\n",
    "plt.xticks(np.linspace(0, 1, 11))\n",
    "plt.yticks(np.linspace(0, 1, 11))\n",
    "\n",
    "plt.xlabel('Thresholds')\n",
    "plt.title('TPR and FPR')\n",
    "\n",
    "# plt.savefig('04_fpr_tpr_plot.svg')\n",
    "\n",
    "plt.show()"
   ]
  },
  {
   "cell_type": "code",
   "execution_count": 49,
   "id": "5b67e116-54cb-44ba-a0a5-cd6408dd3b17",
   "metadata": {},
   "outputs": [],
   "source": [
    "from sklearn.metrics import roc_curve\n",
    "from sklearn.metrics import auc\n",
    "fpr, tpr, thresholds = roc_curve(y_val, y_pred)"
   ]
  },
  {
   "cell_type": "code",
   "execution_count": 50,
   "id": "949540ad-3e26-4562-bb5d-05328abc9c9f",
   "metadata": {},
   "outputs": [
    {
     "data": {
      "image/png": "[encoded data removed]",
      "text/plain": [
       "<Figure size 500x500 with 1 Axes>"
      ]
     },
     "metadata": {},
     "output_type": "display_data"
    }
   ],
   "source": [
    "plt.figure(figsize=(5, 5))\n",
    "\n",
    "plt.plot(fpr, tpr, color='black')\n",
    "plt.plot([0, 1], [0, 1], color='black', lw=0.7, linestyle='dashed', alpha=0.5)\n",
    "\n",
    "plt.xlim([-0.02, 1.02])\n",
    "plt.ylim([-0.02, 1.02])\n",
    "plt.xlabel('False Positive Rate')\n",
    "plt.ylabel('True Positive Rate')\n",
    "\n",
    "plt.title('ROC curve')\n",
    "\n",
    "plt.show()"
   ]
  },
  {
   "cell_type": "code",
   "execution_count": 51,
   "id": "b33d1d7e-014d-4b32-bfc0-2f07b6c995d4",
   "metadata": {},
   "outputs": [
    {
     "name": "stdout",
     "output_type": "stream",
     "text": [
      "C=0.001, auc = 0.472 ± 0.022\n",
      "C=0.01, auc = 0.601 ± 0.027\n",
      "C=0.1, auc = 0.753 ± 0.034\n",
      "C=0.5, auc = 0.814 ± 0.033\n",
      "C=1, auc = 0.828 ± 0.031\n",
      "C=5, auc = 0.836 ± 0.029\n",
      "C=10, auc = 0.837 ± 0.029\n",
      "C=40, auc = 0.838 ± 0.028\n",
      "C=80, auc = 0.837 ± 0.028\n",
      "C=100, auc = 0.837 ± 0.028\n"
     ]
    }
   ],
   "source": [
    "nfolds = 5\n",
    "kfold = KFold(n_splits=nfolds, shuffle=True, random_state=1)\n",
    "\n",
    "for C in [0.001, 0.01, 0.1, 0.5, 1, 5, 10, 40 ,80 ,100]:\n",
    "    aucs = []\n",
    "\n",
    "    for train_idx, val_idx in kfold.split(df_train_full):\n",
    "        df_train = df_train_full.iloc[train_idx]\n",
    "        df_val = df_train_full.iloc[val_idx]\n",
    "\n",
    "        y_train = df_train.stroke.values\n",
    "        y_val = df_val.stroke.values\n",
    "\n",
    "        dv, model = train(df_train, y_train, C=C)\n",
    "        y_pred = predict(df_val, dv, model)\n",
    "        \n",
    "        auc = roc_auc_score(y_val, y_pred)\n",
    "        aucs.append(auc)\n",
    "\n",
    "    print('C=%s, auc = %0.3f ± %0.3f' % (C, np.mean(aucs), np.std(aucs)))"
   ]
  },
  {
   "cell_type": "code",
   "execution_count": 52,
   "id": "d22ff514-1e28-41e9-ad38-83137b43f01b",
   "metadata": {},
   "outputs": [
    {
     "ename": "TypeError",
     "evalue": "'numpy.float64' object is not callable",
     "output_type": "error",
     "traceback": [
      "\u001b[0;31m---------------------------------------------------------------------------\u001b[0m",
      "\u001b[0;31mTypeError\u001b[0m                                 Traceback (most recent call last)",
      "\u001b[0;32m/tmp/ipykernel_9205/3761148896.py\u001b[0m in \u001b[0;36m<module>\u001b[0;34m\u001b[0m\n\u001b[0;32m----> 1\u001b[0;31m \u001b[0mauc\u001b[0m\u001b[0;34m(\u001b[0m\u001b[0mdf_scores\u001b[0m\u001b[0;34m.\u001b[0m\u001b[0mfpr\u001b[0m\u001b[0;34m,\u001b[0m \u001b[0mdf_scores\u001b[0m\u001b[0;34m.\u001b[0m\u001b[0mtpr\u001b[0m\u001b[0;34m)\u001b[0m\u001b[0;34m\u001b[0m\u001b[0;34m\u001b[0m\u001b[0m\n\u001b[0m",
      "\u001b[0;31mTypeError\u001b[0m: 'numpy.float64' object is not callable"
     ]
    }
   ],
   "source": [
    "auc(df_scores.fpr, df_scores.tpr)"
   ]
  },
  {
   "cell_type": "code",
   "execution_count": 54,
   "id": "ad32d0d0-6335-4636-97ab-e7848edfa841",
   "metadata": {},
   "outputs": [
    {
     "ename": "ValueError",
     "evalue": "Found input variables with inconsistent numbers of samples: [3984, 3188]",
     "output_type": "error",
     "traceback": [
      "\u001b[0;31m---------------------------------------------------------------------------\u001b[0m",
      "\u001b[0;31mValueError\u001b[0m                                Traceback (most recent call last)",
      "\u001b[0;32m/tmp/ipykernel_9205/1205802866.py\u001b[0m in \u001b[0;36m<module>\u001b[0;34m\u001b[0m\n\u001b[1;32m      3\u001b[0m \u001b[0;31m#y_test = df_test.stroke.values\u001b[0m\u001b[0;34m\u001b[0m\u001b[0;34m\u001b[0m\u001b[0m\n\u001b[1;32m      4\u001b[0m \u001b[0;34m\u001b[0m\u001b[0m\n\u001b[0;32m----> 5\u001b[0;31m \u001b[0mdv\u001b[0m\u001b[0;34m,\u001b[0m \u001b[0mmodel\u001b[0m \u001b[0;34m=\u001b[0m \u001b[0mtrain\u001b[0m\u001b[0;34m(\u001b[0m\u001b[0mdf_train_full\u001b[0m\u001b[0;34m,\u001b[0m \u001b[0my_train\u001b[0m\u001b[0;34m,\u001b[0m \u001b[0mC\u001b[0m\u001b[0;34m=\u001b[0m\u001b[0;36m40\u001b[0m\u001b[0;34m)\u001b[0m\u001b[0;34m\u001b[0m\u001b[0;34m\u001b[0m\u001b[0m\n\u001b[0m\u001b[1;32m      6\u001b[0m \u001b[0my_pred\u001b[0m \u001b[0;34m=\u001b[0m \u001b[0mpredict\u001b[0m\u001b[0;34m(\u001b[0m\u001b[0mdf_test\u001b[0m\u001b[0;34m,\u001b[0m \u001b[0mdv\u001b[0m\u001b[0;34m,\u001b[0m \u001b[0mmodel\u001b[0m\u001b[0;34m)\u001b[0m\u001b[0;34m\u001b[0m\u001b[0;34m\u001b[0m\u001b[0m\n\u001b[1;32m      7\u001b[0m \u001b[0;34m\u001b[0m\u001b[0m\n",
      "\u001b[0;32m/tmp/ipykernel_9205/3864543349.py\u001b[0m in \u001b[0;36mtrain\u001b[0;34m(df, y, C)\u001b[0m\n\u001b[1;32m      8\u001b[0m \u001b[0;34m\u001b[0m\u001b[0m\n\u001b[1;32m      9\u001b[0m     \u001b[0mmodel\u001b[0m \u001b[0;34m=\u001b[0m \u001b[0mLogisticRegression\u001b[0m\u001b[0;34m(\u001b[0m\u001b[0msolver\u001b[0m\u001b[0;34m=\u001b[0m\u001b[0;34m'liblinear'\u001b[0m\u001b[0;34m,\u001b[0m \u001b[0mC\u001b[0m\u001b[0;34m=\u001b[0m\u001b[0mC\u001b[0m\u001b[0;34m,\u001b[0m \u001b[0mmax_iter\u001b[0m \u001b[0;34m=\u001b[0m \u001b[0;36m1000\u001b[0m\u001b[0;34m)\u001b[0m\u001b[0;34m\u001b[0m\u001b[0;34m\u001b[0m\u001b[0m\n\u001b[0;32m---> 10\u001b[0;31m     \u001b[0mmodel\u001b[0m\u001b[0;34m.\u001b[0m\u001b[0mfit\u001b[0m\u001b[0;34m(\u001b[0m\u001b[0mX\u001b[0m\u001b[0;34m,\u001b[0m \u001b[0my\u001b[0m\u001b[0;34m)\u001b[0m\u001b[0;34m\u001b[0m\u001b[0;34m\u001b[0m\u001b[0m\n\u001b[0m\u001b[1;32m     11\u001b[0m \u001b[0;34m\u001b[0m\u001b[0m\n\u001b[1;32m     12\u001b[0m     \u001b[0;32mreturn\u001b[0m \u001b[0mdv\u001b[0m\u001b[0;34m,\u001b[0m \u001b[0mmodel\u001b[0m\u001b[0;34m\u001b[0m\u001b[0;34m\u001b[0m\u001b[0m\n",
      "\u001b[0;32m~/anaconda3/lib/python3.9/site-packages/sklearn/linear_model/_logistic.py\u001b[0m in \u001b[0;36mfit\u001b[0;34m(self, X, y, sample_weight)\u001b[0m\n\u001b[1;32m   1506\u001b[0m             \u001b[0m_dtype\u001b[0m \u001b[0;34m=\u001b[0m \u001b[0;34m[\u001b[0m\u001b[0mnp\u001b[0m\u001b[0;34m.\u001b[0m\u001b[0mfloat64\u001b[0m\u001b[0;34m,\u001b[0m \u001b[0mnp\u001b[0m\u001b[0;34m.\u001b[0m\u001b[0mfloat32\u001b[0m\u001b[0;34m]\u001b[0m\u001b[0;34m\u001b[0m\u001b[0;34m\u001b[0m\u001b[0m\n\u001b[1;32m   1507\u001b[0m \u001b[0;34m\u001b[0m\u001b[0m\n\u001b[0;32m-> 1508\u001b[0;31m         X, y = self._validate_data(\n\u001b[0m\u001b[1;32m   1509\u001b[0m             \u001b[0mX\u001b[0m\u001b[0;34m,\u001b[0m\u001b[0;34m\u001b[0m\u001b[0;34m\u001b[0m\u001b[0m\n\u001b[1;32m   1510\u001b[0m             \u001b[0my\u001b[0m\u001b[0;34m,\u001b[0m\u001b[0;34m\u001b[0m\u001b[0;34m\u001b[0m\u001b[0m\n",
      "\u001b[0;32m~/anaconda3/lib/python3.9/site-packages/sklearn/base.py\u001b[0m in \u001b[0;36m_validate_data\u001b[0;34m(self, X, y, reset, validate_separately, **check_params)\u001b[0m\n\u001b[1;32m    579\u001b[0m                 \u001b[0my\u001b[0m \u001b[0;34m=\u001b[0m \u001b[0mcheck_array\u001b[0m\u001b[0;34m(\u001b[0m\u001b[0my\u001b[0m\u001b[0;34m,\u001b[0m \u001b[0;34m**\u001b[0m\u001b[0mcheck_y_params\u001b[0m\u001b[0;34m)\u001b[0m\u001b[0;34m\u001b[0m\u001b[0;34m\u001b[0m\u001b[0m\n\u001b[1;32m    580\u001b[0m             \u001b[0;32melse\u001b[0m\u001b[0;34m:\u001b[0m\u001b[0;34m\u001b[0m\u001b[0;34m\u001b[0m\u001b[0m\n\u001b[0;32m--> 581\u001b[0;31m                 \u001b[0mX\u001b[0m\u001b[0;34m,\u001b[0m \u001b[0my\u001b[0m \u001b[0;34m=\u001b[0m \u001b[0mcheck_X_y\u001b[0m\u001b[0;34m(\u001b[0m\u001b[0mX\u001b[0m\u001b[0;34m,\u001b[0m \u001b[0my\u001b[0m\u001b[0;34m,\u001b[0m \u001b[0;34m**\u001b[0m\u001b[0mcheck_params\u001b[0m\u001b[0;34m)\u001b[0m\u001b[0;34m\u001b[0m\u001b[0;34m\u001b[0m\u001b[0m\n\u001b[0m\u001b[1;32m    582\u001b[0m             \u001b[0mout\u001b[0m \u001b[0;34m=\u001b[0m \u001b[0mX\u001b[0m\u001b[0;34m,\u001b[0m \u001b[0my\u001b[0m\u001b[0;34m\u001b[0m\u001b[0;34m\u001b[0m\u001b[0m\n\u001b[1;32m    583\u001b[0m \u001b[0;34m\u001b[0m\u001b[0m\n",
      "\u001b[0;32m~/anaconda3/lib/python3.9/site-packages/sklearn/utils/validation.py\u001b[0m in \u001b[0;36mcheck_X_y\u001b[0;34m(X, y, accept_sparse, accept_large_sparse, dtype, order, copy, force_all_finite, ensure_2d, allow_nd, multi_output, ensure_min_samples, ensure_min_features, y_numeric, estimator)\u001b[0m\n\u001b[1;32m    979\u001b[0m     \u001b[0my\u001b[0m \u001b[0;34m=\u001b[0m \u001b[0m_check_y\u001b[0m\u001b[0;34m(\u001b[0m\u001b[0my\u001b[0m\u001b[0;34m,\u001b[0m \u001b[0mmulti_output\u001b[0m\u001b[0;34m=\u001b[0m\u001b[0mmulti_output\u001b[0m\u001b[0;34m,\u001b[0m \u001b[0my_numeric\u001b[0m\u001b[0;34m=\u001b[0m\u001b[0my_numeric\u001b[0m\u001b[0;34m)\u001b[0m\u001b[0;34m\u001b[0m\u001b[0;34m\u001b[0m\u001b[0m\n\u001b[1;32m    980\u001b[0m \u001b[0;34m\u001b[0m\u001b[0m\n\u001b[0;32m--> 981\u001b[0;31m     \u001b[0mcheck_consistent_length\u001b[0m\u001b[0;34m(\u001b[0m\u001b[0mX\u001b[0m\u001b[0;34m,\u001b[0m \u001b[0my\u001b[0m\u001b[0;34m)\u001b[0m\u001b[0;34m\u001b[0m\u001b[0;34m\u001b[0m\u001b[0m\n\u001b[0m\u001b[1;32m    982\u001b[0m \u001b[0;34m\u001b[0m\u001b[0m\n\u001b[1;32m    983\u001b[0m     \u001b[0;32mreturn\u001b[0m \u001b[0mX\u001b[0m\u001b[0;34m,\u001b[0m \u001b[0my\u001b[0m\u001b[0;34m\u001b[0m\u001b[0;34m\u001b[0m\u001b[0m\n",
      "\u001b[0;32m~/anaconda3/lib/python3.9/site-packages/sklearn/utils/validation.py\u001b[0m in \u001b[0;36mcheck_consistent_length\u001b[0;34m(*arrays)\u001b[0m\n\u001b[1;32m    330\u001b[0m     \u001b[0muniques\u001b[0m \u001b[0;34m=\u001b[0m \u001b[0mnp\u001b[0m\u001b[0;34m.\u001b[0m\u001b[0munique\u001b[0m\u001b[0;34m(\u001b[0m\u001b[0mlengths\u001b[0m\u001b[0;34m)\u001b[0m\u001b[0;34m\u001b[0m\u001b[0;34m\u001b[0m\u001b[0m\n\u001b[1;32m    331\u001b[0m     \u001b[0;32mif\u001b[0m \u001b[0mlen\u001b[0m\u001b[0;34m(\u001b[0m\u001b[0muniques\u001b[0m\u001b[0;34m)\u001b[0m \u001b[0;34m>\u001b[0m \u001b[0;36m1\u001b[0m\u001b[0;34m:\u001b[0m\u001b[0;34m\u001b[0m\u001b[0;34m\u001b[0m\u001b[0m\n\u001b[0;32m--> 332\u001b[0;31m         raise ValueError(\n\u001b[0m\u001b[1;32m    333\u001b[0m             \u001b[0;34m\"Found input variables with inconsistent numbers of samples: %r\"\u001b[0m\u001b[0;34m\u001b[0m\u001b[0;34m\u001b[0m\u001b[0m\n\u001b[1;32m    334\u001b[0m             \u001b[0;34m%\u001b[0m \u001b[0;34m[\u001b[0m\u001b[0mint\u001b[0m\u001b[0;34m(\u001b[0m\u001b[0ml\u001b[0m\u001b[0;34m)\u001b[0m \u001b[0;32mfor\u001b[0m \u001b[0ml\u001b[0m \u001b[0;32min\u001b[0m \u001b[0mlengths\u001b[0m\u001b[0;34m]\u001b[0m\u001b[0;34m\u001b[0m\u001b[0;34m\u001b[0m\u001b[0m\n",
      "\u001b[0;31mValueError\u001b[0m: Found input variables with inconsistent numbers of samples: [3984, 3188]"
     ]
    }
   ],
   "source": [
    "## Full train\n",
    "#y_train = df_train_full.stroke.values\n",
    "#y_test = df_test.stroke.values\n",
    "\n",
    "dv, model = train(df_train_full, y_train, C=40)\n",
    "y_pred = predict(df_test, dv, model)\n",
    "\n",
    "auc = roc_auc_score(y_test, y_pred)\n",
    "print('auc = %.3f' % auc)"
   ]
  },
  {
   "cell_type": "code",
   "execution_count": 55,
   "id": "fda9b2dc-a909-44a8-83e8-f63a3137d778",
   "metadata": {},
   "outputs": [
    {
     "name": "stderr",
     "output_type": "stream",
     "text": [
      "/tmp/ipykernel_9205/1981091204.py:17: RuntimeWarning: invalid value encountered in long_scalars\n",
      "  precision = tp / (tp + fp)\n",
      "/tmp/ipykernel_9205/1981091204.py:17: RuntimeWarning: invalid value encountered in long_scalars\n",
      "  precision = tp / (tp + fp)\n",
      "/tmp/ipykernel_9205/1981091204.py:17: RuntimeWarning: invalid value encountered in long_scalars\n",
      "  precision = tp / (tp + fp)\n"
     ]
    },
    {
     "data": {
      "text/html": [
       "<div>\n",
       "<style scoped>\n",
       "    .dataframe tbody tr th:only-of-type {\n",
       "        vertical-align: middle;\n",
       "    }\n",
       "\n",
       "    .dataframe tbody tr th {\n",
       "        vertical-align: top;\n",
       "    }\n",
       "\n",
       "    .dataframe thead th {\n",
       "        text-align: right;\n",
       "    }\n",
       "</style>\n",
       "<table border=\"1\" class=\"dataframe\">\n",
       "  <thead>\n",
       "    <tr style=\"text-align: right;\">\n",
       "      <th></th>\n",
       "      <th>threshold</th>\n",
       "      <th>tp</th>\n",
       "      <th>fp</th>\n",
       "      <th>fn</th>\n",
       "      <th>tn</th>\n",
       "      <th>precision</th>\n",
       "      <th>recall</th>\n",
       "      <th>f1</th>\n",
       "    </tr>\n",
       "  </thead>\n",
       "  <tbody>\n",
       "    <tr>\n",
       "      <th>0</th>\n",
       "      <td>0.00</td>\n",
       "      <td>40</td>\n",
       "      <td>756</td>\n",
       "      <td>0</td>\n",
       "      <td>0</td>\n",
       "      <td>0.050251</td>\n",
       "      <td>1.000</td>\n",
       "      <td>0.095694</td>\n",
       "    </tr>\n",
       "    <tr>\n",
       "      <th>1</th>\n",
       "      <td>0.25</td>\n",
       "      <td>3</td>\n",
       "      <td>4</td>\n",
       "      <td>37</td>\n",
       "      <td>752</td>\n",
       "      <td>0.428571</td>\n",
       "      <td>0.075</td>\n",
       "      <td>0.127660</td>\n",
       "    </tr>\n",
       "    <tr>\n",
       "      <th>2</th>\n",
       "      <td>0.50</td>\n",
       "      <td>0</td>\n",
       "      <td>0</td>\n",
       "      <td>40</td>\n",
       "      <td>756</td>\n",
       "      <td>NaN</td>\n",
       "      <td>0.000</td>\n",
       "      <td>NaN</td>\n",
       "    </tr>\n",
       "    <tr>\n",
       "      <th>3</th>\n",
       "      <td>0.75</td>\n",
       "      <td>0</td>\n",
       "      <td>0</td>\n",
       "      <td>40</td>\n",
       "      <td>756</td>\n",
       "      <td>NaN</td>\n",
       "      <td>0.000</td>\n",
       "      <td>NaN</td>\n",
       "    </tr>\n",
       "    <tr>\n",
       "      <th>4</th>\n",
       "      <td>1.00</td>\n",
       "      <td>0</td>\n",
       "      <td>0</td>\n",
       "      <td>40</td>\n",
       "      <td>756</td>\n",
       "      <td>NaN</td>\n",
       "      <td>0.000</td>\n",
       "      <td>NaN</td>\n",
       "    </tr>\n",
       "  </tbody>\n",
       "</table>\n",
       "</div>"
      ],
      "text/plain": [
       "   threshold  tp   fp  fn   tn  precision  recall        f1\n",
       "0       0.00  40  756   0    0   0.050251   1.000  0.095694\n",
       "1       0.25   3    4  37  752   0.428571   0.075  0.127660\n",
       "2       0.50   0    0  40  756        NaN   0.000       NaN\n",
       "3       0.75   0    0  40  756        NaN   0.000       NaN\n",
       "4       1.00   0    0  40  756        NaN   0.000       NaN"
      ]
     },
     "execution_count": 55,
     "metadata": {},
     "output_type": "execute_result"
    }
   ],
   "source": [
    "thresholds = np.linspace(0, 1, 5) #np.linspace(0, 0+(0.01*101),101,endpoint=False)\n",
    "scores = []\n",
    "actual_positive = (y_val == 1)\n",
    "actual_negative = (y_val == 0)\n",
    "\n",
    "for t in thresholds:\n",
    "    acc = accuracy_score(y_val, y_pred >= t)\n",
    "\n",
    "    predict_positive = (y_pred >= t)\n",
    "    predict_negative = (y_pred <= t)\n",
    "    \n",
    "    tp = (predict_positive & actual_positive).sum()\n",
    "    tn = (predict_negative & actual_negative).sum()\n",
    "    fp = (predict_positive & actual_negative).sum()\n",
    "    fn = (predict_negative & actual_positive).sum()\n",
    "    \n",
    "    precision = tp / (tp + fp)\n",
    "    recall = tp / (tp + fn)\n",
    "    f1 = 2.*precision*recall /(precision + recall)\n",
    "    \n",
    "    scores.append((t, tp, fp, fn, tn, precision, recall, f1 ))\n",
    "\n",
    "    df_scores = pd.DataFrame(scores)\n",
    "    df_scores.columns = ['threshold', 'tp', 'fp', 'fn', 'tn', 'precision', 'recall' ,'f1' ] \n",
    "    \n",
    "df_scores"
   ]
  },
  {
   "cell_type": "markdown",
   "id": "45362b03-9b3c-4efa-88f2-01ff7679e7ba",
   "metadata": {},
   "source": [
    "## Random Forest"
   ]
  },
  {
   "cell_type": "code",
   "execution_count": 56,
   "id": "09c5613c-fe1a-4fb5-8ced-dec011fd4dbc",
   "metadata": {},
   "outputs": [],
   "source": [
    "#Use DictVectorizer to turn the dataframe into matrices.\n",
    "\n",
    "#Do train/validation/test split with 60%/20%/20% distribution.\n",
    "\n",
    "#Use the train_test_split function and set the random_state parameter to 1.\n",
    "\n",
    "df_train_full, df_test = train_test_split(df, test_size=0.2, random_state=1)\n",
    "df_train, df_val = train_test_split(df_train_full, test_size=0.25, random_state=1)\n",
    "\n",
    "df_train = df_train.reset_index(drop=True)\n",
    "df_val = df_val.reset_index(drop=True)\n",
    "df_test = df_test.reset_index(drop=True)\n",
    "\n",
    "y_train = df_train.stroke.values\n",
    "y_val = df_val.stroke.values\n",
    "y_test = df_test.stroke.values\n",
    "\n",
    "\n",
    "del df_train['stroke']\n",
    "del df_val['stroke']\n",
    "del df_test['stroke']\n",
    "\n",
    "dict_train = df_train.fillna(0).to_dict(orient='records')\n",
    "dict_val = df_val.fillna(0).to_dict(orient='records')\n",
    "dv = DictVectorizer(sparse=False)\n",
    "\n",
    "X_train = dv.fit_transform(dict_train)\n",
    "X_val = dv.transform(dict_val)"
   ]
  },
  {
   "cell_type": "code",
   "execution_count": 57,
   "id": "f8c2ec2f-281b-4a57-8d5b-dc1b88070620",
   "metadata": {},
   "outputs": [
    {
     "data": {
      "text/plain": [
       "array(['age', 'avg_glucose_level', 'bmi', 'ever_married=No',\n",
       "       'ever_married=Yes', 'gender=Female', 'gender=Male',\n",
       "       'heart_disease', 'hypertension', 'residence_type=Rural',\n",
       "       'residence_type=Urban', 'smoking_status=Unknown',\n",
       "       'smoking_status=formerly smoked', 'smoking_status=never smoked',\n",
       "       'smoking_status=smokes', 'work_type=Govt_job', 'work_type=Private',\n",
       "       'work_type=Self-employed', 'work_type=children'], dtype=object)"
      ]
     },
     "execution_count": 57,
     "metadata": {},
     "output_type": "execute_result"
    }
   ],
   "source": [
    "dv.get_feature_names_out()"
   ]
  },
  {
   "cell_type": "code",
   "execution_count": 64,
   "id": "fff38951-e7c8-4e9c-a3d4-74ad052558d2",
   "metadata": {},
   "outputs": [
    {
     "data": {
      "text/plain": [
       "0.722454920414658"
      ]
     },
     "execution_count": 64,
     "metadata": {},
     "output_type": "execute_result"
    }
   ],
   "source": [
    "dt = DecisionTreeClassifier(max_depth=1)\n",
    "dt.fit(X_train, y_train)\n",
    "y_pred = dt.predict_proba(X_train)[:, 1]\n",
    "roc_auc_score(y_train, y_pred)"
   ]
  },
  {
   "cell_type": "code",
   "execution_count": 65,
   "id": "e9f87be2-aaaa-48ec-8d04-a7456c97d4e1",
   "metadata": {},
   "outputs": [
    {
     "data": {
      "text/plain": [
       "0.6688683921298192"
      ]
     },
     "execution_count": 65,
     "metadata": {},
     "output_type": "execute_result"
    }
   ],
   "source": [
    "y_pred = dt.predict_proba(X_val)[:, 1]\n",
    "roc_auc_score(y_val, y_pred)"
   ]
  },
  {
   "cell_type": "code",
   "execution_count": 66,
   "id": "d453a37e-3b8d-4a2a-867e-81f01fbf28b6",
   "metadata": {},
   "outputs": [
    {
     "name": "stdout",
     "output_type": "stream",
     "text": [
      "|--- age <= 4.23\n",
      "|   |--- class: 0\n",
      "|--- age >  4.23\n",
      "|   |--- class: 0\n",
      "\n"
     ]
    },
    {
     "name": "stderr",
     "output_type": "stream",
     "text": [
      "/home/solo/anaconda3/lib/python3.9/site-packages/sklearn/utils/deprecation.py:87: FutureWarning: Function get_feature_names is deprecated; get_feature_names is deprecated in 1.0 and will be removed in 1.2. Please use get_feature_names_out instead.\n",
      "  warnings.warn(msg, category=FutureWarning)\n"
     ]
    }
   ],
   "source": [
    "print(export_text(dt, feature_names = dv.get_feature_names()))"
   ]
  },
  {
   "cell_type": "code",
   "execution_count": 68,
   "id": "5b5b07e2-6bde-485a-86ae-9bf963cb1e89",
   "metadata": {},
   "outputs": [
    {
     "name": "stdout",
     "output_type": "stream",
     "text": [
      "|--- age <= 4.23\n",
      "|   |--- age <= 3.90\n",
      "|   |   |--- age <= 3.82\n",
      "|   |   |   |--- class: 0\n",
      "|   |   |--- age >  3.82\n",
      "|   |   |   |--- class: 0\n",
      "|   |--- age >  3.90\n",
      "|   |   |--- avg_glucose_level <= 101.39\n",
      "|   |   |   |--- class: 0\n",
      "|   |   |--- avg_glucose_level >  101.39\n",
      "|   |   |   |--- class: 0\n",
      "|--- age >  4.23\n",
      "|   |--- bmi <= 44.85\n",
      "|   |   |--- avg_glucose_level <= 123.81\n",
      "|   |   |   |--- class: 0\n",
      "|   |   |--- avg_glucose_level >  123.81\n",
      "|   |   |   |--- class: 0\n",
      "|   |--- bmi >  44.85\n",
      "|   |   |--- class: 1\n",
      "\n"
     ]
    },
    {
     "name": "stderr",
     "output_type": "stream",
     "text": [
      "/home/solo/anaconda3/lib/python3.9/site-packages/sklearn/utils/deprecation.py:87: FutureWarning: Function get_feature_names is deprecated; get_feature_names is deprecated in 1.0 and will be removed in 1.2. Please use get_feature_names_out instead.\n",
      "  warnings.warn(msg, category=FutureWarning)\n"
     ]
    }
   ],
   "source": [
    "dt = DecisionTreeClassifier(max_depth=3)\n",
    "dt.fit(X_train, y_train)\n",
    "print(export_text(dt, feature_names = dv.get_feature_names()))"
   ]
  },
  {
   "cell_type": "code",
   "execution_count": 69,
   "id": "22b15e42-ac3b-4eba-ac4d-d73684871476",
   "metadata": {},
   "outputs": [
    {
     "data": {
      "text/plain": [
       "RandomForestClassifier(n_estimators=10, n_jobs=-1, random_state=1)"
      ]
     },
     "execution_count": 69,
     "metadata": {},
     "output_type": "execute_result"
    }
   ],
   "source": [
    "rf = RandomForestClassifier(n_estimators = 10, random_state = 1, n_jobs=-1)\n",
    "rf.fit(X_train, y_train)"
   ]
  },
  {
   "cell_type": "code",
   "execution_count": 70,
   "id": "ac5cb440-2f43-4b80-80cb-fecfb3238251",
   "metadata": {},
   "outputs": [],
   "source": [
    "y_pred = rf.predict(X_val)"
   ]
  },
  {
   "cell_type": "code",
   "execution_count": 71,
   "id": "715d6c1e-b400-4952-968b-2437d6a7c420",
   "metadata": {},
   "outputs": [],
   "source": [
    "scores = []\n",
    "for d in [4, 5, 6]:\n",
    "    for s in [1, 2, 5, 10, 15, 20, 100, 200, 500]:\n",
    "        dt = DecisionTreeClassifier(max_depth=d, min_samples_leaf =s )\n",
    "        dt.fit(X_train, y_train)\n",
    "        y_pred = dt.predict_proba(X_val)[:, 1]\n",
    "        auc = roc_auc_score(y_val, y_pred)\n",
    "        scores.append((d,s, auc))"
   ]
  },
  {
   "cell_type": "code",
   "execution_count": 72,
   "id": "2f613ec1-b5bb-4b0b-ab92-74733e0be090",
   "metadata": {},
   "outputs": [
    {
     "name": "stdout",
     "output_type": "stream",
     "text": [
      "(   4,   1) ->   1\n",
      "(   4,   2) ->   1\n",
      "(   4,   5) ->   1\n",
      "(   4,  10) ->   1\n",
      "(   4,  15) ->   1\n",
      "(   4,  20) ->   1\n",
      "(   4, 100) ->   1\n",
      "(   4, 200) ->   1\n",
      "(   4, 500) ->   1\n",
      "(   5,   1) ->   1\n",
      "(   5,   2) ->   1\n",
      "(   5,   5) ->   1\n",
      "(   5,  10) ->   1\n",
      "(   5,  15) ->   1\n",
      "(   5,  20) ->   1\n",
      "(   5, 100) ->   1\n",
      "(   5, 200) ->   1\n",
      "(   5, 500) ->   1\n",
      "(   6,   1) ->   1\n",
      "(   6,   2) ->   1\n",
      "(   6,   5) ->   1\n",
      "(   6,  10) ->   1\n",
      "(   6,  15) ->   1\n",
      "(   6,  20) ->   1\n",
      "(   6, 100) ->   1\n",
      "(   6, 200) ->   1\n",
      "(   6, 500) ->   1\n"
     ]
    }
   ],
   "source": [
    "#let's look at the in_samples_leaf\n",
    "for d in [4, 5, 6]:\n",
    "    for s in [1, 2, 5, 10, 15, 20, 100, 200, 500]:\n",
    "        dt = DecisionTreeClassifier(max_depth=d, min_samples_leaf =s )\n",
    "        dt.fit(X_train, y_train)\n",
    "        y_pred = dt.predict_proba(X_val)[:, 1]\n",
    "        auc = roc_auc_score(y_val, y_pred)\n",
    "        print('(%4s, %3d) -> %3.f' % (d,s, auc))"
   ]
  },
  {
   "cell_type": "code",
   "execution_count": 73,
   "id": "201c1042-654c-4db3-a340-36b825c0e168",
   "metadata": {},
   "outputs": [
    {
     "data": {
      "text/html": [
       "<div>\n",
       "<style scoped>\n",
       "    .dataframe tbody tr th:only-of-type {\n",
       "        vertical-align: middle;\n",
       "    }\n",
       "\n",
       "    .dataframe tbody tr th {\n",
       "        vertical-align: top;\n",
       "    }\n",
       "\n",
       "    .dataframe thead th {\n",
       "        text-align: right;\n",
       "    }\n",
       "</style>\n",
       "<table border=\"1\" class=\"dataframe\">\n",
       "  <thead>\n",
       "    <tr style=\"text-align: right;\">\n",
       "      <th></th>\n",
       "      <th>max_depth</th>\n",
       "      <th>min_samples_leaf</th>\n",
       "      <th>auc</th>\n",
       "    </tr>\n",
       "  </thead>\n",
       "  <tbody>\n",
       "    <tr>\n",
       "      <th>0</th>\n",
       "      <td>4</td>\n",
       "      <td>1</td>\n",
       "      <td>0.750706</td>\n",
       "    </tr>\n",
       "    <tr>\n",
       "      <th>1</th>\n",
       "      <td>4</td>\n",
       "      <td>2</td>\n",
       "      <td>0.744995</td>\n",
       "    </tr>\n",
       "    <tr>\n",
       "      <th>2</th>\n",
       "      <td>4</td>\n",
       "      <td>5</td>\n",
       "      <td>0.728811</td>\n",
       "    </tr>\n",
       "    <tr>\n",
       "      <th>3</th>\n",
       "      <td>4</td>\n",
       "      <td>10</td>\n",
       "      <td>0.728584</td>\n",
       "    </tr>\n",
       "    <tr>\n",
       "      <th>4</th>\n",
       "      <td>4</td>\n",
       "      <td>15</td>\n",
       "      <td>0.713930</td>\n",
       "    </tr>\n",
       "    <tr>\n",
       "      <th>5</th>\n",
       "      <td>4</td>\n",
       "      <td>20</td>\n",
       "      <td>0.729026</td>\n",
       "    </tr>\n",
       "    <tr>\n",
       "      <th>6</th>\n",
       "      <td>4</td>\n",
       "      <td>100</td>\n",
       "      <td>0.747021</td>\n",
       "    </tr>\n",
       "    <tr>\n",
       "      <th>7</th>\n",
       "      <td>4</td>\n",
       "      <td>200</td>\n",
       "      <td>0.768097</td>\n",
       "    </tr>\n",
       "    <tr>\n",
       "      <th>8</th>\n",
       "      <td>4</td>\n",
       "      <td>500</td>\n",
       "      <td>0.769681</td>\n",
       "    </tr>\n",
       "    <tr>\n",
       "      <th>9</th>\n",
       "      <td>5</td>\n",
       "      <td>1</td>\n",
       "      <td>0.720212</td>\n",
       "    </tr>\n",
       "    <tr>\n",
       "      <th>10</th>\n",
       "      <td>5</td>\n",
       "      <td>2</td>\n",
       "      <td>0.710525</td>\n",
       "    </tr>\n",
       "    <tr>\n",
       "      <th>11</th>\n",
       "      <td>5</td>\n",
       "      <td>5</td>\n",
       "      <td>0.714717</td>\n",
       "    </tr>\n",
       "    <tr>\n",
       "      <th>12</th>\n",
       "      <td>5</td>\n",
       "      <td>10</td>\n",
       "      <td>0.713639</td>\n",
       "    </tr>\n",
       "    <tr>\n",
       "      <th>13</th>\n",
       "      <td>5</td>\n",
       "      <td>15</td>\n",
       "      <td>0.705967</td>\n",
       "    </tr>\n",
       "    <tr>\n",
       "      <th>14</th>\n",
       "      <td>5</td>\n",
       "      <td>20</td>\n",
       "      <td>0.703446</td>\n",
       "    </tr>\n",
       "    <tr>\n",
       "      <th>15</th>\n",
       "      <td>5</td>\n",
       "      <td>100</td>\n",
       "      <td>0.743185</td>\n",
       "    </tr>\n",
       "    <tr>\n",
       "      <th>16</th>\n",
       "      <td>5</td>\n",
       "      <td>200</td>\n",
       "      <td>0.768097</td>\n",
       "    </tr>\n",
       "    <tr>\n",
       "      <th>17</th>\n",
       "      <td>5</td>\n",
       "      <td>500</td>\n",
       "      <td>0.769681</td>\n",
       "    </tr>\n",
       "    <tr>\n",
       "      <th>18</th>\n",
       "      <td>6</td>\n",
       "      <td>1</td>\n",
       "      <td>0.719425</td>\n",
       "    </tr>\n",
       "    <tr>\n",
       "      <th>19</th>\n",
       "      <td>6</td>\n",
       "      <td>2</td>\n",
       "      <td>0.721246</td>\n",
       "    </tr>\n",
       "    <tr>\n",
       "      <th>20</th>\n",
       "      <td>6</td>\n",
       "      <td>5</td>\n",
       "      <td>0.682424</td>\n",
       "    </tr>\n",
       "    <tr>\n",
       "      <th>21</th>\n",
       "      <td>6</td>\n",
       "      <td>10</td>\n",
       "      <td>0.677499</td>\n",
       "    </tr>\n",
       "    <tr>\n",
       "      <th>22</th>\n",
       "      <td>6</td>\n",
       "      <td>15</td>\n",
       "      <td>0.703144</td>\n",
       "    </tr>\n",
       "    <tr>\n",
       "      <th>23</th>\n",
       "      <td>6</td>\n",
       "      <td>20</td>\n",
       "      <td>0.709577</td>\n",
       "    </tr>\n",
       "    <tr>\n",
       "      <th>24</th>\n",
       "      <td>6</td>\n",
       "      <td>100</td>\n",
       "      <td>0.743185</td>\n",
       "    </tr>\n",
       "    <tr>\n",
       "      <th>25</th>\n",
       "      <td>6</td>\n",
       "      <td>200</td>\n",
       "      <td>0.768097</td>\n",
       "    </tr>\n",
       "    <tr>\n",
       "      <th>26</th>\n",
       "      <td>6</td>\n",
       "      <td>500</td>\n",
       "      <td>0.769681</td>\n",
       "    </tr>\n",
       "  </tbody>\n",
       "</table>\n",
       "</div>"
      ],
      "text/plain": [
       "    max_depth  min_samples_leaf       auc\n",
       "0           4                 1  0.750706\n",
       "1           4                 2  0.744995\n",
       "2           4                 5  0.728811\n",
       "3           4                10  0.728584\n",
       "4           4                15  0.713930\n",
       "5           4                20  0.729026\n",
       "6           4               100  0.747021\n",
       "7           4               200  0.768097\n",
       "8           4               500  0.769681\n",
       "9           5                 1  0.720212\n",
       "10          5                 2  0.710525\n",
       "11          5                 5  0.714717\n",
       "12          5                10  0.713639\n",
       "13          5                15  0.705967\n",
       "14          5                20  0.703446\n",
       "15          5               100  0.743185\n",
       "16          5               200  0.768097\n",
       "17          5               500  0.769681\n",
       "18          6                 1  0.719425\n",
       "19          6                 2  0.721246\n",
       "20          6                 5  0.682424\n",
       "21          6                10  0.677499\n",
       "22          6                15  0.703144\n",
       "23          6                20  0.709577\n",
       "24          6               100  0.743185\n",
       "25          6               200  0.768097\n",
       "26          6               500  0.769681"
      ]
     },
     "execution_count": 73,
     "metadata": {},
     "output_type": "execute_result"
    }
   ],
   "source": [
    "columns = ['max_depth', 'min_samples_leaf', 'auc']\n",
    "df_scores = pd.DataFrame(scores, columns = columns )\n",
    "df_scores"
   ]
  },
  {
   "cell_type": "code",
   "execution_count": 74,
   "id": "8e2d7787-19d1-4c28-ac18-6c0f7216b65f",
   "metadata": {},
   "outputs": [
    {
     "data": {
      "text/html": [
       "<div>\n",
       "<style scoped>\n",
       "    .dataframe tbody tr th:only-of-type {\n",
       "        vertical-align: middle;\n",
       "    }\n",
       "\n",
       "    .dataframe tbody tr th {\n",
       "        vertical-align: top;\n",
       "    }\n",
       "\n",
       "    .dataframe thead tr th {\n",
       "        text-align: left;\n",
       "    }\n",
       "\n",
       "    .dataframe thead tr:last-of-type th {\n",
       "        text-align: right;\n",
       "    }\n",
       "</style>\n",
       "<table border=\"1\" class=\"dataframe\">\n",
       "  <thead>\n",
       "    <tr>\n",
       "      <th></th>\n",
       "      <th colspan=\"3\" halign=\"left\">auc</th>\n",
       "    </tr>\n",
       "    <tr>\n",
       "      <th>max_depth</th>\n",
       "      <th>4</th>\n",
       "      <th>5</th>\n",
       "      <th>6</th>\n",
       "    </tr>\n",
       "    <tr>\n",
       "      <th>min_samples_leaf</th>\n",
       "      <th></th>\n",
       "      <th></th>\n",
       "      <th></th>\n",
       "    </tr>\n",
       "  </thead>\n",
       "  <tbody>\n",
       "    <tr>\n",
       "      <th>1</th>\n",
       "      <td>0.751</td>\n",
       "      <td>0.720</td>\n",
       "      <td>0.719</td>\n",
       "    </tr>\n",
       "    <tr>\n",
       "      <th>2</th>\n",
       "      <td>0.745</td>\n",
       "      <td>0.711</td>\n",
       "      <td>0.721</td>\n",
       "    </tr>\n",
       "    <tr>\n",
       "      <th>5</th>\n",
       "      <td>0.729</td>\n",
       "      <td>0.715</td>\n",
       "      <td>0.682</td>\n",
       "    </tr>\n",
       "    <tr>\n",
       "      <th>10</th>\n",
       "      <td>0.729</td>\n",
       "      <td>0.714</td>\n",
       "      <td>0.677</td>\n",
       "    </tr>\n",
       "    <tr>\n",
       "      <th>15</th>\n",
       "      <td>0.714</td>\n",
       "      <td>0.706</td>\n",
       "      <td>0.703</td>\n",
       "    </tr>\n",
       "    <tr>\n",
       "      <th>20</th>\n",
       "      <td>0.729</td>\n",
       "      <td>0.703</td>\n",
       "      <td>0.710</td>\n",
       "    </tr>\n",
       "    <tr>\n",
       "      <th>100</th>\n",
       "      <td>0.747</td>\n",
       "      <td>0.743</td>\n",
       "      <td>0.743</td>\n",
       "    </tr>\n",
       "    <tr>\n",
       "      <th>200</th>\n",
       "      <td>0.768</td>\n",
       "      <td>0.768</td>\n",
       "      <td>0.768</td>\n",
       "    </tr>\n",
       "    <tr>\n",
       "      <th>500</th>\n",
       "      <td>0.770</td>\n",
       "      <td>0.770</td>\n",
       "      <td>0.770</td>\n",
       "    </tr>\n",
       "  </tbody>\n",
       "</table>\n",
       "</div>"
      ],
      "text/plain": [
       "                    auc              \n",
       "max_depth             4      5      6\n",
       "min_samples_leaf                     \n",
       "1                 0.751  0.720  0.719\n",
       "2                 0.745  0.711  0.721\n",
       "5                 0.729  0.715  0.682\n",
       "10                0.729  0.714  0.677\n",
       "15                0.714  0.706  0.703\n",
       "20                0.729  0.703  0.710\n",
       "100               0.747  0.743  0.743\n",
       "200               0.768  0.768  0.768\n",
       "500               0.770  0.770  0.770"
      ]
     },
     "execution_count": 74,
     "metadata": {},
     "output_type": "execute_result"
    }
   ],
   "source": [
    "#let's create the table\n",
    "df_scores_pivot = df_scores.pivot(index='min_samples_leaf', columns =['max_depth'], values = ['auc'])\n",
    "df_scores_pivot.round(3)"
   ]
  },
  {
   "cell_type": "code",
   "execution_count": 75,
   "id": "6cf1c111-8aa8-43ae-9d9d-a940ca21089c",
   "metadata": {},
   "outputs": [
    {
     "data": {
      "text/plain": [
       "<AxesSubplot:xlabel='None-max_depth', ylabel='min_samples_leaf'>"
      ]
     },
     "execution_count": 75,
     "metadata": {},
     "output_type": "execute_result"
    },
    {
     "data": {
      "image/png": "[encoded data removed]",
      "text/plain": [
       "<Figure size 640x480 with 2 Axes>"
      ]
     },
     "metadata": {},
     "output_type": "display_data"
    }
   ],
   "source": [
    "sns.heatmap(df_scores_pivot, annot = True, fmt = '.3f')"
   ]
  },
  {
   "cell_type": "markdown",
   "id": "01ee6f24-1e44-4cda-906f-31952f2c0925",
   "metadata": {},
   "source": [
    "## best auc - min_samples_leaf = 400; max_depth = 4;"
   ]
  },
  {
   "cell_type": "code",
   "execution_count": 76,
   "id": "c9cca885-3ec5-40c4-8a3b-03441849e842",
   "metadata": {},
   "outputs": [
    {
     "name": "stdout",
     "output_type": "stream",
     "text": [
      "train auc: 0.839\n",
      "validation auc: 0.784\n"
     ]
    }
   ],
   "source": [
    "#final model Decision Tree Classifier\n",
    "\n",
    "dt = DecisionTreeClassifier(max_depth = 4, min_samples_leaf = 400)\n",
    "dt.fit(X_train, y_train)\n",
    "y_pred = dt.predict_proba(X_train)[:, 1]\n",
    "auc = roc_auc_score(y_train, y_pred)\n",
    "print('train auc: %.3f' % auc)\n",
    "\n",
    "y_pred = dt.predict_proba(X_val)[:, 1]\n",
    "auc = roc_auc_score(y_val, y_pred)\n",
    "print('validation auc: %.3f' % auc)"
   ]
  },
  {
   "cell_type": "markdown",
   "id": "a7993c7f-f563-4d5c-a359-22bf6dd2bff6",
   "metadata": {},
   "source": [
    "## RandomForestClassifier"
   ]
  },
  {
   "cell_type": "code",
   "execution_count": 78,
   "id": "9b137780-72bf-400f-9188-29b3f48a32e4",
   "metadata": {},
   "outputs": [
    {
     "name": "stdout",
     "output_type": "stream",
     "text": [
      "10 -> 0.663\n",
      "20 -> 0.688\n",
      "30 -> 0.718\n",
      "40 -> 0.736\n",
      "50 -> 0.753\n",
      "60 -> 0.757\n",
      "70 -> 0.758\n",
      "80 -> 0.772\n",
      "90 -> 0.772\n",
      "100 -> 0.773\n",
      "110 -> 0.773\n",
      "120 -> 0.773\n",
      "130 -> 0.771\n",
      "140 -> 0.768\n",
      "150 -> 0.765\n",
      "160 -> 0.765\n",
      "170 -> 0.765\n",
      "180 -> 0.764\n",
      "190 -> 0.763\n",
      "200 -> 0.765\n"
     ]
    }
   ],
   "source": [
    "# model fit number of estimators\n",
    "aucs = []\n",
    "\n",
    "for i in range(10, 201, 10):\n",
    "    rf = RandomForestClassifier(n_estimators=i, random_state=3)\n",
    "    rf.fit(X_train, y_train)\n",
    "    y_pred = rf.predict_proba(X_val)[:, 1]\n",
    "    auc = roc_auc_score(y_val, y_pred)\n",
    "    print('%s -> %.3f' % (i, auc))\n",
    "    aucs.append((i,auc))"
   ]
  },
  {
   "cell_type": "code",
   "execution_count": 79,
   "id": "fba94f0e-713f-42b7-bd0a-05f0214114fd",
   "metadata": {},
   "outputs": [
    {
     "data": {
      "text/plain": [
       "[<matplotlib.lines.Line2D at 0x7f207346cca0>]"
      ]
     },
     "execution_count": 79,
     "metadata": {},
     "output_type": "execute_result"
    },
    {
     "data": {
      "image/png": "[encoded data removed]",
      "text/plain": [
       "<Figure size 640x480 with 1 Axes>"
      ]
     },
     "metadata": {},
     "output_type": "display_data"
    }
   ],
   "source": [
    "df_scores = pd.DataFrame(aucs, columns = ['n_estimators', 'auc'])\n",
    "plt.plot(df_scores.n_estimators,df_scores.auc )"
   ]
  },
  {
   "cell_type": "markdown",
   "id": "0516c82c-d547-46d3-b676-20d135b33ef4",
   "metadata": {},
   "source": [
    "## n_estimators=70"
   ]
  },
  {
   "cell_type": "code",
   "execution_count": 87,
   "id": "99ff676f-f9a8-4ab9-a263-8531bf15a4aa",
   "metadata": {},
   "outputs": [
    {
     "name": "stdout",
     "output_type": "stream",
     "text": [
      "depth: 3\n",
      "10 -> 0.779\n",
      "20 -> 0.791\n",
      "30 -> 0.796\n",
      "40 -> 0.791\n",
      "50 -> 0.786\n",
      "60 -> 0.785\n",
      "70 -> 0.785\n",
      "80 -> 0.783\n",
      "90 -> 0.784\n",
      "100 -> 0.784\n",
      "110 -> 0.785\n",
      "120 -> 0.784\n",
      "130 -> 0.782\n",
      "140 -> 0.783\n",
      "150 -> 0.783\n",
      "160 -> 0.782\n",
      "170 -> 0.783\n",
      "180 -> 0.783\n",
      "190 -> 0.782\n",
      "200 -> 0.781\n",
      "210 -> 0.782\n",
      "220 -> 0.782\n",
      "230 -> 0.782\n",
      "240 -> 0.781\n",
      "250 -> 0.781\n",
      "260 -> 0.782\n",
      "270 -> 0.783\n",
      "280 -> 0.783\n",
      "290 -> 0.783\n",
      "300 -> 0.784\n",
      "310 -> 0.784\n",
      "320 -> 0.785\n",
      "330 -> 0.784\n",
      "340 -> 0.784\n",
      "350 -> 0.784\n",
      "360 -> 0.784\n",
      "370 -> 0.784\n",
      "380 -> 0.784\n",
      "390 -> 0.784\n",
      "400 -> 0.784\n",
      "410 -> 0.784\n",
      "420 -> 0.783\n",
      "430 -> 0.784\n",
      "440 -> 0.784\n",
      "450 -> 0.784\n",
      "460 -> 0.783\n",
      "470 -> 0.784\n",
      "480 -> 0.784\n",
      "490 -> 0.784\n",
      "500 -> 0.784\n",
      "\n",
      "depth: 5\n",
      "10 -> 0.778\n",
      "20 -> 0.779\n",
      "30 -> 0.786\n",
      "40 -> 0.789\n",
      "50 -> 0.785\n",
      "60 -> 0.788\n",
      "70 -> 0.789\n",
      "80 -> 0.790\n",
      "90 -> 0.789\n",
      "100 -> 0.791\n",
      "110 -> 0.790\n",
      "120 -> 0.789\n",
      "130 -> 0.788\n",
      "140 -> 0.790\n",
      "150 -> 0.791\n",
      "160 -> 0.791\n",
      "170 -> 0.791\n",
      "180 -> 0.791\n",
      "190 -> 0.791\n",
      "200 -> 0.791\n",
      "210 -> 0.791\n",
      "220 -> 0.791\n",
      "230 -> 0.792\n",
      "240 -> 0.791\n",
      "250 -> 0.792\n",
      "260 -> 0.791\n",
      "270 -> 0.791\n",
      "280 -> 0.791\n",
      "290 -> 0.791\n",
      "300 -> 0.792\n",
      "310 -> 0.792\n",
      "320 -> 0.792\n",
      "330 -> 0.792\n",
      "340 -> 0.792\n",
      "350 -> 0.792\n",
      "360 -> 0.792\n",
      "370 -> 0.791\n",
      "380 -> 0.791\n",
      "390 -> 0.791\n",
      "400 -> 0.791\n",
      "410 -> 0.791\n",
      "420 -> 0.790\n",
      "430 -> 0.790\n",
      "440 -> 0.790\n",
      "450 -> 0.790\n",
      "460 -> 0.790\n",
      "470 -> 0.790\n",
      "480 -> 0.790\n",
      "490 -> 0.790\n",
      "500 -> 0.790\n",
      "\n",
      "depth: 10\n",
      "10 -> 0.778\n",
      "20 -> 0.777\n",
      "30 -> 0.770\n",
      "40 -> 0.764\n",
      "50 -> 0.764\n",
      "60 -> 0.765\n",
      "70 -> 0.766\n",
      "80 -> 0.768\n",
      "90 -> 0.765\n",
      "100 -> 0.767\n",
      "110 -> 0.765\n",
      "120 -> 0.763\n",
      "130 -> 0.760\n",
      "140 -> 0.763\n",
      "150 -> 0.763\n",
      "160 -> 0.763\n",
      "170 -> 0.763\n",
      "180 -> 0.764\n",
      "190 -> 0.766\n",
      "200 -> 0.768\n",
      "210 -> 0.770\n",
      "220 -> 0.771\n",
      "230 -> 0.770\n",
      "240 -> 0.770\n",
      "250 -> 0.771\n",
      "260 -> 0.772\n",
      "270 -> 0.775\n",
      "280 -> 0.775\n",
      "290 -> 0.774\n",
      "300 -> 0.773\n",
      "310 -> 0.772\n",
      "320 -> 0.771\n",
      "330 -> 0.771\n",
      "340 -> 0.776\n",
      "350 -> 0.775\n",
      "360 -> 0.775\n",
      "370 -> 0.774\n",
      "380 -> 0.774\n",
      "390 -> 0.774\n",
      "400 -> 0.775\n",
      "410 -> 0.775\n",
      "420 -> 0.776\n",
      "430 -> 0.774\n",
      "440 -> 0.775\n",
      "450 -> 0.775\n",
      "460 -> 0.775\n",
      "470 -> 0.776\n",
      "480 -> 0.776\n",
      "490 -> 0.776\n",
      "500 -> 0.776\n",
      "\n",
      "depth: 20\n",
      "10 -> 0.719\n",
      "20 -> 0.741\n",
      "30 -> 0.723\n",
      "40 -> 0.723\n",
      "50 -> 0.729\n",
      "60 -> 0.732\n",
      "70 -> 0.734\n",
      "80 -> 0.749\n",
      "90 -> 0.762\n",
      "100 -> 0.762\n",
      "110 -> 0.762\n",
      "120 -> 0.763\n",
      "130 -> 0.762\n",
      "140 -> 0.766\n",
      "150 -> 0.765\n",
      "160 -> 0.762\n",
      "170 -> 0.760\n",
      "180 -> 0.760\n",
      "190 -> 0.764\n",
      "200 -> 0.770\n",
      "210 -> 0.768\n",
      "220 -> 0.769\n",
      "230 -> 0.769\n",
      "240 -> 0.768\n",
      "250 -> 0.767\n",
      "260 -> 0.766\n",
      "270 -> 0.768\n",
      "280 -> 0.767\n",
      "290 -> 0.768\n",
      "300 -> 0.768\n",
      "310 -> 0.769\n",
      "320 -> 0.769\n",
      "330 -> 0.769\n",
      "340 -> 0.768\n",
      "350 -> 0.769\n",
      "360 -> 0.770\n",
      "370 -> 0.769\n",
      "380 -> 0.769\n",
      "390 -> 0.768\n",
      "400 -> 0.769\n",
      "410 -> 0.769\n",
      "420 -> 0.769\n",
      "430 -> 0.768\n",
      "440 -> 0.767\n",
      "450 -> 0.768\n",
      "460 -> 0.768\n",
      "470 -> 0.768\n",
      "480 -> 0.768\n",
      "490 -> 0.768\n",
      "500 -> 0.768\n",
      "\n"
     ]
    }
   ],
   "source": [
    "all_aucs = {}\n",
    "\n",
    "for depth in [3, 5, 10, 20]:\n",
    "    print('depth: %s' % depth)\n",
    "    aucs = []\n",
    "    score = []\n",
    "    for i in range(10, 501, 10):\n",
    "        rf = RandomForestClassifier(n_estimators=i, max_depth=depth, random_state=1)\n",
    "        rf.fit(X_train, y_train)\n",
    "        y_pred = rf.predict_proba(X_val)[:, 1]\n",
    "        auc = roc_auc_score(y_val, y_pred)\n",
    "        print('%s -> %.3f' % (i, auc))\n",
    "        aucs.append((depth, i, auc))\n",
    "        score.append(auc)\n",
    "    all_aucs[depth] = score\n",
    "    print()"
   ]
  },
  {
   "cell_type": "code",
   "execution_count": 82,
   "id": "40d956db-f0a2-4bf5-af31-a7908b4174cd",
   "metadata": {},
   "outputs": [],
   "source": [
    "df_scores = pd.DataFrame(aucs, columns = ['max_depth','n_estimators', 'auc'])"
   ]
  },
  {
   "cell_type": "code",
   "execution_count": 88,
   "id": "f70bebc7-097d-4434-a100-83bd36ad0a82",
   "metadata": {},
   "outputs": [
    {
     "data": {
      "image/png": "[encoded data removed]",
      "text/plain": [
       "<Figure size 600x400 with 1 Axes>"
      ]
     },
     "metadata": {},
     "output_type": "display_data"
    }
   ],
   "source": [
    "plt.figure(figsize=(6, 4))\n",
    "\n",
    "num_trees = list(range(10, 501, 10))\n",
    "\n",
    "plt.plot(num_trees, all_aucs[3], label='depth=3', color='orange', linestyle='dashed')\n",
    "plt.plot(num_trees, all_aucs[5], label='depth=5', color='blue', linestyle='dotted')\n",
    "plt.plot(num_trees, all_aucs[10], label='depth=10', color='green', linestyle='dashed')\n",
    "plt.plot(num_trees, all_aucs[20], label='depth=20', color='red', linestyle='solid')\n",
    "    \n",
    "plt.xticks(range(0, 501, 50))\n",
    "plt.legend()\n",
    "\n",
    "plt.title('Number of trees vs AUC')\n",
    "plt.xlabel('Number of trees')\n",
    "plt.ylabel('AUC')\n",
    "\n",
    "# plt.savefig('ch06-figures/06_random_forest_n_estimators_depth.svg')\n",
    "\n",
    "plt.show()"
   ]
  },
  {
   "cell_type": "markdown",
   "id": "b1fd9f67-f5f6-4610-bb15-7967f0e71608",
   "metadata": {},
   "source": [
    "# max_depth =5, num_trees=150"
   ]
  },
  {
   "cell_type": "code",
   "execution_count": null,
   "id": "97997a91-fcb0-40e4-8162-c50972074635",
   "metadata": {},
   "outputs": [],
   "source": []
  }
 ],
 "metadata": {
  "kernelspec": {
   "display_name": "Python 3 (ipykernel)",
   "language": "python",
   "name": "python3"
  },
  "language_info": {
   "codemirror_mode": {
    "name": "ipython",
    "version": 3
   },
   "file_extension": ".py",
   "mimetype": "text/x-python",
   "name": "python",
   "nbconvert_exporter": "python",
   "pygments_lexer": "ipython3",
   "version": "3.9.13"
  }
 },
 "nbformat": 4,
 "nbformat_minor": 5
}
